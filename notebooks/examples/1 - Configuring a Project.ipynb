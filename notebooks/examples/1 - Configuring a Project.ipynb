{
 "cells": [
  {
   "cell_type": "markdown",
   "metadata": {},
   "source": [
    "# 1 - Configuring a Workforce Project Using the ArcGIS API for Python\n",
    "\n",
    "This is first of a series of Jupyter Notebooks designed to demonstrate how the ArcGIS API for Python can be used to automate many aspects of Workforce for ArcGIS.\n",
    "\n",
    "Workforce for ArcGIS is a mobile solution that uses the power of location-based decision making for better field workforce coordination and teamwork. Everything in Workforce is center around the Workforce Project. A project consists of many things including workers, dispatchers, assignments, and app integrations. A project is typically configured through the user interface as described [here](https://doc.arcgis.com/en/workforce/android-phone/help/create-your-first-project.htm). For many users, this experience is totally fine. However, for other users who have complex or recurring projects this can be quite time-consuming. In this guide we'll demonstrate how many of those configuration tasks can be automated by using the [ArcGIS API for Python](https://developers.arcgis.com/python/).\n",
    "\n",
    "This guide uses the ArcGIS API for Python version 1.5.1 with Python 3.6+."
   ]
  },
  {
   "cell_type": "markdown",
   "metadata": {},
   "source": [
    "### Importing the Workforce Module"
   ]
  },
  {
   "cell_type": "markdown",
   "metadata": {},
   "source": [
    "Let's get started! The ArcGIS API for Python provides a [module](https://esri.github.io/arcgis-python-api/apidoc/html/arcgis.apps.workforce.html) specifically for working with Workforce Projects. Let's first import that module."
   ]
  },
  {
   "cell_type": "code",
   "execution_count": 1,
   "metadata": {},
   "outputs": [],
   "source": [
    "from arcgis.apps import workforce"
   ]
  },
  {
   "cell_type": "markdown",
   "metadata": {},
   "source": [
    "### Connecting to your organization"
   ]
  },
  {
   "cell_type": "markdown",
   "metadata": {},
   "source": [
    "Now we'll connect to our organization as the owner of an existing workforce Project."
   ]
  },
  {
   "cell_type": "code",
   "execution_count": 2,
   "metadata": {
    "scrolled": true
   },
   "outputs": [
    {
     "name": "stdout",
     "output_type": "stream",
     "text": [
      "Enter password: ········\n"
     ]
    }
   ],
   "source": [
    "from arcgis.gis import GIS\n",
    "gis = GIS(\"https://arcgis.com\", \"workforce_scripts\")"
   ]
  },
  {
   "cell_type": "markdown",
   "metadata": {},
   "source": [
    "### Searching for and using an existing project"
   ]
  },
  {
   "cell_type": "markdown",
   "metadata": {},
   "source": [
    "Next, let's find a specific project in our organization that we'd like to configure."
   ]
  },
  {
   "cell_type": "code",
   "execution_count": 3,
   "metadata": {},
   "outputs": [
    {
     "data": {
      "text/html": [
       "<div class=\"item_container\" style=\"height: auto; overflow: hidden; border: 1px solid #cfcfcf; border-radius: 2px; background: #f6fafa; line-height: 1.21429em; padding: 10px;\">\n",
       "                    <div class=\"item_left\" style=\"width: 210px; float: left;\">\n",
       "                       <a href='https://Nitro.maps.arcgis.com/home/item.html?id=2fb5b1ff2f5a47658d2fa2608a9d4123' target='_blank'>\n",
       "                        <img src='data:image/png;base64,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' width='200' height='133' class=\"itemThumbnail\">\n",
       "                       </a>\n",
       "                    </div>\n",
       "\n",
       "                    <div class=\"item_right\"     style=\"float: none; width: auto; overflow: hidden;\">\n",
       "                        <a href='https://Nitro.maps.arcgis.com/home/item.html?id=2fb5b1ff2f5a47658d2fa2608a9d4123' target='_blank'><b>Public Works Work Orders</b>\n",
       "                        </a>\n",
       "                        <br/>A list of assignments to be completed by various public works employees.<img src='https://Nitro.maps.arcgis.com/home/js/jsapi/esri/css/images/item_type_icons/layers16.png' style=\"vertical-align:middle;\">Workforce Project by workforce_scripts\n",
       "                        <br/>Last Modified: November 13, 2018\n",
       "                        <br/>0 comments, 84 views\n",
       "                    </div>\n",
       "                </div>\n",
       "                "
      ],
      "text/plain": [
       "<Item title:\"Public Works Work Orders\" type:Workforce Project owner:workforce_scripts>"
      ]
     },
     "execution_count": 3,
     "metadata": {},
     "output_type": "execute_result"
    }
   ],
   "source": [
    "item = gis.content.search(\"type:'Workforce Project' 'Public Works Work Orders'\")[0]\n",
    "item"
   ]
  },
  {
   "cell_type": "markdown",
   "metadata": {},
   "source": [
    "Let's create a [Project](https://esri.github.io/arcgis-python-api/apidoc/html/arcgis.apps.workforce.html#project) object from that item so we can leverage the workforce module to easily configure it."
   ]
  },
  {
   "cell_type": "code",
   "execution_count": 4,
   "metadata": {},
   "outputs": [],
   "source": [
    "project = workforce.Project(item)"
   ]
  },
  {
   "cell_type": "markdown",
   "metadata": {},
   "source": [
    "### Adding assignment types"
   ]
  },
  {
   "cell_type": "markdown",
   "metadata": {},
   "source": [
    "Now that we have a `Project` to work with, let's add a few assignment types. We'll use the [AssignmentTypeManager](https://esri.github.io/arcgis-python-api/apidoc/html/arcgis.apps.workforce.managers.html#assignmenttypemanager) object, which is a [property](https://esri.github.io/arcgis-python-api/apidoc/html/arcgis.apps.workforce.html#arcgis.apps.workforce.Project.assignment_types) of the `Project`, to accomplish this."
   ]
  },
  {
   "cell_type": "code",
   "execution_count": 5,
   "metadata": {},
   "outputs": [
    {
     "data": {
      "text/plain": [
       "[<AssignmentType 1>, <AssignmentType 2>, <AssignmentType 3>]"
      ]
     },
     "execution_count": 5,
     "metadata": {},
     "output_type": "execute_result"
    }
   ],
   "source": [
    "project.assignment_types.add(name=\"Fill in Pothole\")\n",
    "project.assignment_types.add(name=\"Sidewalk Repair\")\n",
    "project.assignment_types.add(name=\"Paint Crosswalk\")\n",
    "project.assignment_types.search()"
   ]
  },
  {
   "cell_type": "markdown",
   "metadata": {},
   "source": [
    "### Adding workers to the project"
   ]
  },
  {
   "cell_type": "markdown",
   "metadata": {},
   "source": [
    "Now let's add some workers to the project. We are going to import workers from an existing group in our organization. Let's first find the group of workers."
   ]
  },
  {
   "cell_type": "code",
   "execution_count": 6,
   "metadata": {},
   "outputs": [
    {
     "data": {
      "text/html": [
       "<div class=\"9item_container\" style=\"height: auto; overflow: hidden; border: 1px solid #cfcfcf; border-radius: 2px; background: #f6fafa; line-height: 1.21429em; padding: 10px;\">\n",
       "                    <div class=\"item_left\" style=\"width: 210px; float: left;\">\n",
       "                       <a href='https://Nitro.maps.arcgis.com/home/group.html?id=687cc3e68e8c4ef29dad20e8d6ebb9f5' target='_blank'>\n",
       "                        <img src='data:image/png;base64,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' ' class=\"itemThumbnail\">\n",
       "                       </a>\n",
       "                    </div>\n",
       "\n",
       "                    <div class=\"item_right\" style=\"float: none; width: auto; overflow: hidden;\">\n",
       "                        <a href='https://Nitro.maps.arcgis.com/home/group.html?id=687cc3e68e8c4ef29dad20e8d6ebb9f5' target='_blank'><b>Road Repair Crew</b>\n",
       "                        </a>\n",
       "                        <br/>\n",
       "                        <br/><b>Summary</b>: A group containing road and sidewalk workers.\n",
       "                        <br/><b>Description</b>: None\n",
       "                        <br/><b>Owner</b>: workforce_scripts\n",
       "                        <br/><b>Created</b>: June 29, 2018\n",
       "\n",
       "                    </div>\n",
       "                </div>\n",
       "                "
      ],
      "text/plain": [
       "<Group title:\"Road Repair Crew\" owner:workforce_scripts>"
      ]
     },
     "execution_count": 6,
     "metadata": {},
     "output_type": "execute_result"
    }
   ],
   "source": [
    "repair_crew_group = gis.groups.search(\"Road Repair Crew\")[0]\n",
    "repair_crew_group"
   ]
  },
  {
   "cell_type": "markdown",
   "metadata": {},
   "source": [
    "For each member in the group, we'll add them as a worker to the project. We'll use the [WorkerManager](https://esri.github.io/arcgis-python-api/apidoc/html/arcgis.apps.workforce.managers.html#workermanager) class, which is available as a [property](https://esri.github.io/arcgis-python-api/apidoc/html/arcgis.apps.workforce.html#arcgis.apps.workforce.Project.workers) on the `Project`, to add the users one by one. If there were a lot of users, we could use the [batch_add](https://esri.github.io/arcgis-python-api/apidoc/html/arcgis.apps.workforce.html#project) method to add a list of [Workers](https://esri.github.io/arcgis-python-api/apidoc/html/arcgis.apps.workforce.html#worker) all at once."
   ]
  },
  {
   "cell_type": "code",
   "execution_count": 7,
   "metadata": {},
   "outputs": [],
   "source": [
    "for username in repair_crew_group.get_members()[\"users\"]:\n",
    "    user = gis.users.get(username)\n",
    "    project.workers.add(user_id=username, name=user.fullName, status=\"not_working\")"
   ]
  },
  {
   "cell_type": "markdown",
   "metadata": {},
   "source": [
    "### Adding dispatchers to the project"
   ]
  },
  {
   "cell_type": "markdown",
   "metadata": {},
   "source": [
    "Now let's add some dispatchers to the project from a CSV file. We'll use the [pandas](https://pandas.pydata.org/) library to help us out."
   ]
  },
  {
   "cell_type": "code",
   "execution_count": 8,
   "metadata": {},
   "outputs": [
    {
     "data": {
      "text/html": [
       "<div>\n",
       "<style scoped>\n",
       "    .dataframe tbody tr th:only-of-type {\n",
       "        vertical-align: middle;\n",
       "    }\n",
       "\n",
       "    .dataframe tbody tr th {\n",
       "        vertical-align: top;\n",
       "    }\n",
       "\n",
       "    .dataframe thead th {\n",
       "        text-align: right;\n",
       "    }\n",
       "</style>\n",
       "<table border=\"1\" class=\"dataframe\">\n",
       "  <thead>\n",
       "    <tr style=\"text-align: right;\">\n",
       "      <th></th>\n",
       "      <th>name</th>\n",
       "      <th>contactNumber</th>\n",
       "      <th>userId</th>\n",
       "    </tr>\n",
       "  </thead>\n",
       "  <tbody>\n",
       "    <tr>\n",
       "      <th>0</th>\n",
       "      <td>Mabel Ney</td>\n",
       "      <td>1234567890</td>\n",
       "      <td>mabel_nitro</td>\n",
       "    </tr>\n",
       "    <tr>\n",
       "      <th>1</th>\n",
       "      <td>Craig Gillgrass</td>\n",
       "      <td>987654321</td>\n",
       "      <td>cgillgrass_nitro</td>\n",
       "    </tr>\n",
       "  </tbody>\n",
       "</table>\n",
       "</div>"
      ],
      "text/plain": [
       "              name  contactNumber            userId\n",
       "0        Mabel Ney     1234567890       mabel_nitro\n",
       "1  Craig Gillgrass      987654321  cgillgrass_nitro"
      ]
     },
     "execution_count": 8,
     "metadata": {},
     "output_type": "execute_result"
    }
   ],
   "source": [
    "import pandas as pd\n",
    "dataframe = pd.read_csv(\"data/dispatchers.csv\")\n",
    "dataframe"
   ]
  },
  {
   "cell_type": "markdown",
   "metadata": {},
   "source": [
    "As shown above, we have 2 users to add. For every row in the csv file, let's add a new [dispatcher](https://esri.github.io/arcgis-python-api/apidoc/html/arcgis.apps.workforce.html#dispatcher) to the project. We'll use the [DispatcherManager](https://esri.github.io/arcgis-python-api/apidoc/html/arcgis.apps.workforce.managers.html#dispatchermanager) class, which is available as a [property](https://esri.github.io/arcgis-python-api/apidoc/html/arcgis.apps.workforce.html#arcgis.apps.workforce.Project.dispatchers) on the `Project`, to add the users one by one. If there were a lot of users, we could use the [batch_add](https://esri.github.io/arcgis-python-api/apidoc/html/arcgis.apps.workforce.managers.html#arcgis.apps.workforce.managers.DispatcherManager.batch_add) method to add a list of [Dispatchers](https://esri.github.io/arcgis-python-api/apidoc/html/arcgis.apps.workforce.html#dispatcher) all at once."
   ]
  },
  {
   "cell_type": "code",
   "execution_count": 9,
   "metadata": {},
   "outputs": [],
   "source": [
    "for row in dataframe.itertuples():\n",
    "    project.dispatchers.add(\n",
    "        name=row.name,\n",
    "        contact_number=row.contactNumber,\n",
    "        user_id=row.userId\n",
    "    )"
   ]
  },
  {
   "cell_type": "markdown",
   "metadata": {},
   "source": [
    "### Adding an app integration"
   ]
  },
  {
   "cell_type": "markdown",
   "metadata": {},
   "source": [
    "As the final step of configuring the project, let's add the ability to open [Explorer for ArcGIS](https://doc.arcgis.com/en/explorer/) at the assignment location. We'll search the organization for the desired map."
   ]
  },
  {
   "cell_type": "code",
   "execution_count": 10,
   "metadata": {},
   "outputs": [],
   "source": [
    "from arcgis.mapping import WebMap\n",
    "webmap = WebMap(gis.content.search(\"Portland Streets owner:workforce_scripts\")[0])"
   ]
  },
  {
   "cell_type": "markdown",
   "metadata": {},
   "source": [
    "Now, let's share this map with the `Project` group so that all dispatchers and workers can access it."
   ]
  },
  {
   "cell_type": "code",
   "execution_count": 11,
   "metadata": {},
   "outputs": [
    {
     "data": {
      "text/plain": [
       "{'notSharedWith': ['', '93b947caff5a4363b302ea84b9b7a745'],\n",
       " 'itemId': 'db364a0b4c194f0c9c2d46b10c637922'}"
      ]
     },
     "execution_count": 11,
     "metadata": {},
     "output_type": "execute_result"
    }
   ],
   "source": [
    "webmap.item.share(groups=[project.group])"
   ]
  },
  {
   "cell_type": "markdown",
   "metadata": {},
   "source": [
    "Next, we'll create the [url scheme](https://github.com/Esri/explorer-integration) used to launch Explorer by using the [build_explorer_url](https://esri.github.io/arcgis-python-api/apidoc/html/arcgis.apps.html#build-explorer-url) method in the ArcGIS API for Python."
   ]
  },
  {
   "cell_type": "code",
   "execution_count": 12,
   "metadata": {},
   "outputs": [],
   "source": [
    "from arcgis.apps import build_explorer_url\n",
    "url = build_explorer_url(\n",
    "    webmap=webmap,\n",
    "    center=\"${assignment.latitude},${assignment.longitude}\",\n",
    "    scale=9000\n",
    ")"
   ]
  },
  {
   "cell_type": "markdown",
   "metadata": {},
   "source": [
    "Then we'll add a new integration to the project using the created url. We'll use the [AssignmentIntegrationManager ](https://esri.github.io/arcgis-python-api/apidoc/html/arcgis.apps.workforce.managers.html#assignmentintegrationmanager) class, which is available as a [property](https://esri.github.io/arcgis-python-api/apidoc/html/arcgis.apps.workforce.html#arcgis.apps.workforce.Project.integrations) on the `Project`."
   ]
  },
  {
   "cell_type": "code",
   "execution_count": 13,
   "metadata": {},
   "outputs": [
    {
     "data": {
      "text/plain": [
       "{'id': 'default-explorer',\n",
       " 'prompt': 'Explorer At Assignment',\n",
       " 'urlTemplate': 'arcgis-explorer://?itemID=db364a0b4c194f0c9c2d46b10c637922&center=${assignment.latitude},${assignment.longitude}&scale=9000'}"
      ]
     },
     "execution_count": 13,
     "metadata": {},
     "output_type": "execute_result"
    }
   ],
   "source": [
    "project.integrations.add(\"default-explorer\", \"Explorer At Assignment\", url)"
   ]
  },
  {
   "cell_type": "markdown",
   "metadata": {},
   "source": [
    "### Summary"
   ]
  },
  {
   "cell_type": "markdown",
   "metadata": {},
   "source": [
    "To summarize, in around 25 lines of code we did the following:\n",
    "* added 3 assignment types\n",
    "* added workers from an existing group\n",
    "* added dispatchers from an existing CSV file\n",
    "* added an app integration for Explorer for ArcGIS\n",
    "\n",
    "There's a lot more that can be done with the ArcGIS API for Python; we'll dig into some more topics in future blogs/notebooks. If you are interested in running pre-built scripts to create assignment types, import workers, or import dispatchers, check out the dedicated scripts in the repo."
   ]
  }
 ],
 "metadata": {
  "kernelspec": {
   "display_name": "Python 3",
   "language": "python",
   "name": "python3"
  },
  "language_info": {
   "codemirror_mode": {
    "name": "ipython",
    "version": 3
   },
   "file_extension": ".py",
   "mimetype": "text/x-python",
   "name": "python",
   "nbconvert_exporter": "python",
   "pygments_lexer": "ipython3",
   "version": "3.6.7"
  }
 },
 "nbformat": 4,
 "nbformat_minor": 2
}
