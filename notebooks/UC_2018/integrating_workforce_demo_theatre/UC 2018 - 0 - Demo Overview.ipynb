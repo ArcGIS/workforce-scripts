{
 "cells": [
  {
   "cell_type": "markdown",
   "metadata": {},
   "source": [
    "# These are a series of notebooks presented at the 2018 User Conference\n",
    "They highlight configuring adding users, assignment types, integrations, and assignments using various ways. There are 6 notebooks in the series (exluding this one). They should be followed in order from 1 to 6. By substituting the credentials, layers, and project, with your own information these workflows should be easily replicated.\n",
    "\n",
    "These notebooks require the ArcGIS API for Python version 1.4.1 or higher as well as shapely or arcpy installed.\n",
    "\n",
    "In the blocks below, there is some code that can be used to throughout the notebooks (if necessary)."
   ]
  },
  {
   "cell_type": "markdown",
   "metadata": {},
   "source": [
    "### Build SQLite Database and Table\n",
    "For notebook number 4, assignments are read from a SQLite database. The following block creates the database using sqlite3 and pandas."
   ]
  },
  {
   "cell_type": "code",
   "execution_count": 1,
   "metadata": {
    "scrolled": true
   },
   "outputs": [
    {
     "data": {
      "text/html": [
       "<div>\n",
       "<style scoped>\n",
       "    .dataframe tbody tr th:only-of-type {\n",
       "        vertical-align: middle;\n",
       "    }\n",
       "\n",
       "    .dataframe tbody tr th {\n",
       "        vertical-align: top;\n",
       "    }\n",
       "\n",
       "    .dataframe thead th {\n",
       "        text-align: right;\n",
       "    }\n",
       "</style>\n",
       "<table border=\"1\" class=\"dataframe\">\n",
       "  <thead>\n",
       "    <tr style=\"text-align: right;\">\n",
       "      <th></th>\n",
       "      <th>id</th>\n",
       "      <th>due_date</th>\n",
       "      <th>address</th>\n",
       "      <th>priority</th>\n",
       "      <th>type</th>\n",
       "      <th>status</th>\n",
       "      <th>description</th>\n",
       "      <th>notes</th>\n",
       "    </tr>\n",
       "  </thead>\n",
       "  <tbody>\n",
       "    <tr>\n",
       "      <th>0</th>\n",
       "      <td>1</td>\n",
       "      <td>2018-07-12</td>\n",
       "      <td>Colombia St &amp; Broadway, San Diego, CA</td>\n",
       "      <td>1</td>\n",
       "      <td>Sidewalk Repair</td>\n",
       "      <td>Completed</td>\n",
       "      <td>The sidewalk needs to be fixed.</td>\n",
       "      <td>Done</td>\n",
       "    </tr>\n",
       "    <tr>\n",
       "      <th>1</th>\n",
       "      <td>2</td>\n",
       "      <td>2018-07-13</td>\n",
       "      <td>1800 Fifth Ave, San Diego, CA</td>\n",
       "      <td>1</td>\n",
       "      <td>Sidewalk Repair</td>\n",
       "      <td>Completed</td>\n",
       "      <td>The sidewalk is uneven due to tree roots.</td>\n",
       "      <td>Finished</td>\n",
       "    </tr>\n",
       "    <tr>\n",
       "      <th>2</th>\n",
       "      <td>3</td>\n",
       "      <td>2018-07-14</td>\n",
       "      <td>2115 Imperial Ave, San Diego, CA</td>\n",
       "      <td>2</td>\n",
       "      <td>Sidewalk Repair</td>\n",
       "      <td>Backlog</td>\n",
       "      <td>The sidewalk is very uneven.</td>\n",
       "      <td>None</td>\n",
       "    </tr>\n",
       "    <tr>\n",
       "      <th>3</th>\n",
       "      <td>4</td>\n",
       "      <td>2018-07-15</td>\n",
       "      <td>South Evans St &amp; Franklin Ave, San Diego, CA</td>\n",
       "      <td>2</td>\n",
       "      <td>Sidewalk Repair</td>\n",
       "      <td>Backlog</td>\n",
       "      <td>Please fix the sidewalk near the intersection</td>\n",
       "      <td>None</td>\n",
       "    </tr>\n",
       "    <tr>\n",
       "      <th>4</th>\n",
       "      <td>5</td>\n",
       "      <td>2018-07-16</td>\n",
       "      <td>Market St &amp; 31st St, San Diego, CA</td>\n",
       "      <td>3</td>\n",
       "      <td>Sidewalk Repair</td>\n",
       "      <td>Backlog</td>\n",
       "      <td>Fix my side walk</td>\n",
       "      <td>None</td>\n",
       "    </tr>\n",
       "    <tr>\n",
       "      <th>5</th>\n",
       "      <td>6</td>\n",
       "      <td>2018-07-12</td>\n",
       "      <td>Ivy St &amp; Fern St, San Diego, CA</td>\n",
       "      <td>3</td>\n",
       "      <td>Sidewalk Repair</td>\n",
       "      <td>Backlog</td>\n",
       "      <td>Fix the side walk in front of my shop</td>\n",
       "      <td>None</td>\n",
       "    </tr>\n",
       "  </tbody>\n",
       "</table>\n",
       "</div>"
      ],
      "text/plain": [
       "   id   due_date                                       address  priority  \\\n",
       "0   1 2018-07-12         Colombia St & Broadway, San Diego, CA         1   \n",
       "1   2 2018-07-13                 1800 Fifth Ave, San Diego, CA         1   \n",
       "2   3 2018-07-14              2115 Imperial Ave, San Diego, CA         2   \n",
       "3   4 2018-07-15  South Evans St & Franklin Ave, San Diego, CA         2   \n",
       "4   5 2018-07-16            Market St & 31st St, San Diego, CA         3   \n",
       "5   6 2018-07-12               Ivy St & Fern St, San Diego, CA         3   \n",
       "\n",
       "              type     status                                    description  \\\n",
       "0  Sidewalk Repair  Completed                The sidewalk needs to be fixed.   \n",
       "1  Sidewalk Repair  Completed      The sidewalk is uneven due to tree roots.   \n",
       "2  Sidewalk Repair    Backlog                   The sidewalk is very uneven.   \n",
       "3  Sidewalk Repair    Backlog  Please fix the sidewalk near the intersection   \n",
       "4  Sidewalk Repair    Backlog                               Fix my side walk   \n",
       "5  Sidewalk Repair    Backlog          Fix the side walk in front of my shop   \n",
       "\n",
       "      notes  \n",
       "0      Done  \n",
       "1  Finished  \n",
       "2      None  \n",
       "3      None  \n",
       "4      None  \n",
       "5      None  "
      ]
     },
     "execution_count": 1,
     "metadata": {},
     "output_type": "execute_result"
    }
   ],
   "source": [
    "import sqlite3\n",
    "from datetime import datetime\n",
    "import pandas as pd\n",
    "\n",
    "df = pd.DataFrame(\n",
    "[\n",
    "    [1, datetime(2018, 7, 12), \"Colombia St & Broadway, San Diego, CA\", 1, \"Sidewalk Repair\", \"Completed\", \"The sidewalk needs to be fixed.\", \"Done\"],\n",
    "    [2, datetime(2018, 7, 13), \"1800 Fifth Ave, San Diego, CA\", 1, \"Sidewalk Repair\", \"Completed\", \"The sidewalk is uneven due to tree roots.\", \"Finished\"],\n",
    "    [3, datetime(2018, 7, 14), \"2115 Imperial Ave, San Diego, CA\", 2, \"Sidewalk Repair\", \"Backlog\", \"The sidewalk is very uneven.\", None],\n",
    "    [4, datetime(2018, 7, 15), \"South Evans St & Franklin Ave, San Diego, CA\", 2, \"Sidewalk Repair\", \"Backlog\", \"Please fix the sidewalk near the intersection\", None],\n",
    "    [5, datetime(2018, 7, 16), \"Market St & 31st St, San Diego, CA\", 3, \"Sidewalk Repair\", \"Backlog\", \"Fix my side walk\", None],\n",
    "    [6, datetime(2018, 7, 12), \"Ivy St & Fern St, San Diego, CA\", 3, \"Sidewalk Repair\", \"Backlog\", \"Fix the side walk in front of my shop\", None],\n",
    "],\n",
    "columns=[\"id\", \"due_date\", \"address\", \"priority\", \"type\", \"status\", \"description\", \"notes\"])\n",
    "\n",
    "connection = sqlite3.connect(\"work_orders\")\n",
    "df.to_sql(\"work_orders\", connection, if_exists=\"replace\")\n",
    "df"
   ]
  },
  {
   "cell_type": "markdown",
   "metadata": {},
   "source": [
    "### Reset Project\n",
    "The following block can be used to reset the Workforce Project to the original state."
   ]
  },
  {
   "cell_type": "code",
   "execution_count": 2,
   "metadata": {},
   "outputs": [
    {
     "name": "stdout",
     "output_type": "stream",
     "text": [
      "Enter password: ········\n"
     ]
    }
   ],
   "source": [
    "from arcgis.gis import GIS\n",
    "from arcgis.apps import workforce\n",
    "gis = GIS(\"https://arcgis.com\", \"workforce_scripts\")\n",
    "item = gis.content.get(\"1f7b42024da544f6b1e557889e858ac6\")\n",
    "project = workforce.Project(item)\n",
    "\n",
    "project.assignments_item.layers[0].delete_features(where=\"1=1\")\n",
    "project.workers.batch_delete(project.workers.search())\n",
    "project.dispatchers.batch_delete(project.dispatchers.search(\"userId <> 'workforce_scripts'\"))\n",
    "project.assignment_types.batch_delete(project.assignment_types.search())\n",
    "project.integrations.batch_delete([project.integrations.get(\"default-explorer\"), project.integrations.get(\"waze-navigation\")])"
   ]
  },
  {
   "cell_type": "code",
   "execution_count": null,
   "metadata": {},
   "outputs": [],
   "source": []
  }
 ],
 "metadata": {
  "kernelspec": {
   "display_name": "Python 3",
   "language": "python",
   "name": "python3"
  },
  "language_info": {
   "codemirror_mode": {
    "name": "ipython",
    "version": 3
   },
   "file_extension": ".py",
   "mimetype": "text/x-python",
   "name": "python",
   "nbconvert_exporter": "python",
   "pygments_lexer": "ipython3",
   "version": "3.7.3"
  }
 },
 "nbformat": 4,
 "nbformat_minor": 2
}
