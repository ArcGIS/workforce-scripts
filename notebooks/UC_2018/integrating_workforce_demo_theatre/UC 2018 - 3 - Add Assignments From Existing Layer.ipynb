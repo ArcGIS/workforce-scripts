{
 "cells": [
  {
   "cell_type": "markdown",
   "metadata": {},
   "source": [
    "# Add Assignments From an Existing Layer\n",
    "In this example, features in an existing layer on ArcGIS Online, representing crosswalks that need to be painted, will be imported into a Workforce Project as assignments."
   ]
  },
  {
   "cell_type": "code",
   "execution_count": null,
   "metadata": {
    "collapsed": true
   },
   "outputs": [],
   "source": [
    "from datetime import datetime\n",
    "import pandas as pd\n",
    "from arcgis.gis import GIS\n",
    "from arcgis.apps import workforce"
   ]
  },
  {
   "cell_type": "markdown",
   "metadata": {},
   "source": [
    "### Connect to Organization and get the Project\n",
    "Let's connect to ArcGIS Online and find the new Project to add assignments to."
   ]
  },
  {
   "cell_type": "code",
   "execution_count": null,
   "metadata": {
    "collapsed": true
   },
   "outputs": [],
   "source": [
    "gis = GIS(\"https://arcgis.com\", \"workforce_scripts\")\n",
    "item = gis.content.get(\"1f7b42024da544f6b1e557889e858ac6\")\n",
    "project = workforce.Project(item)"
   ]
  },
  {
   "cell_type": "markdown",
   "metadata": {},
   "source": [
    "### Get the \"Paint Crosswalk\" Assignment Type and the Dispatcher to Use\n",
    "Let's get the \"Paint Crosswalk\" assignment type and the dispatcher from the Project."
   ]
  },
  {
   "cell_type": "code",
   "execution_count": null,
   "metadata": {
    "collapsed": true
   },
   "outputs": [],
   "source": [
    "paint_crosswalk = project.assignment_types.get(name=\"Paint Crosswalk\")\n",
    "dispatcher = project.dispatchers.get(user_id=\"workforce_scripts\")"
   ]
  },
  {
   "cell_type": "markdown",
   "metadata": {},
   "source": [
    "### Query the Feature Layer to Find Crosswalks That Need to be Painted\n",
    "Let's fetch the layer containing the crosswalks, query all of the crosswalks, and then display the crosswalks on a map. Workforce stores assignments in WGS84 Web Mercator so let's ensure that the returned geometries are using that spatial reference."
   ]
  },
  {
   "cell_type": "code",
   "execution_count": null,
   "metadata": {
    "collapsed": true
   },
   "outputs": [],
   "source": [
    "layer = gis.content.get(\"2ec0051ba3834714a639365dace5c4c0\").layers[0]\n",
    "crosswalks = layer.query(\"1=1\", out_sr=3857).features"
   ]
  },
  {
   "cell_type": "code",
   "execution_count": null,
   "metadata": {
    "collapsed": false
   },
   "outputs": [],
   "source": [
    "crosswalk_map = gis.map(\"San Diego, CA\", zoomlevel=12)\n",
    "crosswalk_map.add_layer(layer)\n",
    "crosswalk_map"
   ]
  },
  {
   "cell_type": "markdown",
   "metadata": {},
   "source": [
    "### Create an Assignment for Each Feature\n",
    "For each assignment, let's use the geometry and attributes of the existing feature to create the assignment. Then let's use the batch_add method to add multiple assignments at once (this is faster than using the add method since validation is performed once for all assignments)."
   ]
  },
  {
   "cell_type": "code",
   "execution_count": null,
   "metadata": {
    "collapsed": false
   },
   "outputs": [],
   "source": [
    "assignments = []\n",
    "for feature in crosswalks:\n",
    "    assignments.append(\n",
    "        workforce.Assignment(\n",
    "            project,\n",
    "            geometry=feature.geometry,\n",
    "            location=feature.attributes[\"location\"],\n",
    "            description=feature.attributes[\"description\"],\n",
    "            priority=feature.attributes[\"priority\"],\n",
    "            assignment_type=paint_crosswalk,\n",
    "            dispatcher=dispatcher,\n",
    "            status=\"unassigned\"\n",
    "        )\n",
    "    )\n",
    "project.assignments.batch_add(assignments)"
   ]
  },
  {
   "cell_type": "markdown",
   "metadata": {},
   "source": [
    "### Verify Assignments on the Map"
   ]
  },
  {
   "cell_type": "code",
   "execution_count": null,
   "metadata": {
    "collapsed": false
   },
   "outputs": [],
   "source": [
    "webmap = gis.map(\"San Diego\", zoomlevel=14)\n",
    "webmap.add_layer(project.assignments_layer)\n",
    "webmap"
   ]
  }
 ],
 "metadata": {
  "kernelspec": {
   "display_name": "Python 3",
   "language": "python",
   "name": "python3"
  },
  "language_info": {
   "codemirror_mode": {
    "name": "ipython",
    "version": 3
   },
   "file_extension": ".py",
   "mimetype": "text/x-python",
   "name": "python",
   "nbconvert_exporter": "python",
   "pygments_lexer": "ipython3",
   "version": "3.6.0"
  }
 },
 "nbformat": 4,
 "nbformat_minor": 2
}
