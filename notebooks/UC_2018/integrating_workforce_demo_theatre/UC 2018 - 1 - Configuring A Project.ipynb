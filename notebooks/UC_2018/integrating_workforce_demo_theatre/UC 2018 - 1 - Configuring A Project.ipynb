{
 "cells": [
  {
   "cell_type": "markdown",
   "metadata": {},
   "source": [
    "# Configuring a Workforce Project\n",
    "**Note:** This requires using **ArcGIS API for Python version 1.4.1** or higher.\n",
    "\n",
    "**Note:** The app integration management requires using **ArcGIS API for Python 1.5** or higher (when released).\n",
    "\n",
    "In this example, a new Workforce Project will be configured to manage some construction work that needs to be performed in San Diego. We will add assignment types, workers, dispatchers, and app integrations."
   ]
  },
  {
   "cell_type": "code",
   "execution_count": null,
   "metadata": {
    "collapsed": true
   },
   "outputs": [],
   "source": [
    "from arcgis.gis import GIS, User\n",
    "from arcgis.apps import workforce"
   ]
  },
  {
   "cell_type": "markdown",
   "metadata": {},
   "source": [
    "### Connect to the organization\n",
    "Let's connect to our ArcGIS Online Organization."
   ]
  },
  {
   "cell_type": "code",
   "execution_count": null,
   "metadata": {
    "collapsed": true
   },
   "outputs": [],
   "source": [
    "gis = GIS(\"https://arcgis.com\", \"workforce_scripts\")"
   ]
  },
  {
   "cell_type": "markdown",
   "metadata": {},
   "source": [
    "### Fetch an Empty Workforce Project\n",
    "Let's find the new Workforce Project."
   ]
  },
  {
   "cell_type": "code",
   "execution_count": null,
   "metadata": {
    "collapsed": true
   },
   "outputs": [],
   "source": [
    "item = gis.content.get(\"1f7b42024da544f6b1e557889e858ac6\")\n",
    "item"
   ]
  },
  {
   "cell_type": "code",
   "execution_count": null,
   "metadata": {
    "collapsed": true
   },
   "outputs": [],
   "source": [
    "project = workforce.Project(item)"
   ]
  },
  {
   "cell_type": "markdown",
   "metadata": {},
   "source": [
    "### Add Assignment Types\n",
    "Let's add three assignment types related to road construction."
   ]
  },
  {
   "cell_type": "code",
   "execution_count": null,
   "metadata": {
    "collapsed": true
   },
   "outputs": [],
   "source": [
    "fill_pothole = project.assignment_types.add(name=\"Fill in Pothole\")\n",
    "sidewalk_repair = project.assignment_types.add(name=\"Sidewalk Repair\")\n",
    "paint_crosswalk = project.assignment_types.add(name=\"Paint Crosswalk\")"
   ]
  },
  {
   "cell_type": "markdown",
   "metadata": {},
   "source": [
    "### Add Workers From an Existing Group\n",
    "Let's add all of the construction workers that are already in an existing group."
   ]
  },
  {
   "cell_type": "code",
   "execution_count": null,
   "metadata": {
    "collapsed": true
   },
   "outputs": [],
   "source": [
    "construction_crew = gis.groups.get(\"687cc3e68e8c4ef29dad20e8d6ebb9f5\")\n",
    "construction_crew"
   ]
  },
  {
   "cell_type": "code",
   "execution_count": null,
   "metadata": {
    "collapsed": true
   },
   "outputs": [],
   "source": [
    "for username in construction_crew.get_members()[\"users\"]:\n",
    "    user = gis.users.get(username)\n",
    "    project.workers.add(\n",
    "        user_id=username,\n",
    "        name=user.fullName,\n",
    "        status=\"not_working\",\n",
    "        title=\"Construction Worker\"\n",
    "    )"
   ]
  },
  {
   "cell_type": "markdown",
   "metadata": {},
   "source": [
    "### Add Dispatchers From an Existing Group\n",
    "Let's add all of the supervisors from an existing group of construction supervisors."
   ]
  },
  {
   "cell_type": "code",
   "execution_count": null,
   "metadata": {
    "collapsed": true
   },
   "outputs": [],
   "source": [
    "construction_supervisors = gis.groups.get(\"55edd0e5a7d549cc99dd588d4ffa70f3\")\n",
    "construction_supervisors"
   ]
  },
  {
   "cell_type": "code",
   "execution_count": null,
   "metadata": {
    "collapsed": true
   },
   "outputs": [],
   "source": [
    "for username in construction_supervisors.get_members()[\"users\"]:\n",
    "    user = gis.users.get(username)\n",
    "    project.dispatchers.add(\n",
    "        user_id=username,\n",
    "        name=user.fullName\n",
    "    )"
   ]
  },
  {
   "cell_type": "markdown",
   "metadata": {},
   "source": [
    "### Add Explorer Integration\n",
    "Let's add an integration to open a specific map in Explorer for ArcGIS."
   ]
  },
  {
   "cell_type": "code",
   "execution_count": null,
   "metadata": {
    "collapsed": true
   },
   "outputs": [],
   "source": [
    "from arcgis.apps import build_explorer_url\n",
    "from arcgis.mapping import WebMap\n",
    "\n",
    "webmap = WebMap(gis.content.get(\"268512553bbb4332ba0a864cbf4a5423\"))\n",
    "webmap.item.share(groups=[project.group])\n",
    "webmap"
   ]
  },
  {
   "cell_type": "code",
   "execution_count": null,
   "metadata": {
    "collapsed": true
   },
   "outputs": [],
   "source": [
    "url = build_explorer_url(\n",
    "    webmap=webmap,\n",
    "    center=\"${assignment.latitude},${assignment.longitude}\",\n",
    "    scale=9000\n",
    ")"
   ]
  },
  {
   "cell_type": "code",
   "execution_count": null,
   "metadata": {
    "collapsed": true
   },
   "outputs": [],
   "source": [
    "project.integrations.add(\"default-explorer\", \"Explorer At Assignment\", url)"
   ]
  },
  {
   "cell_type": "markdown",
   "metadata": {},
   "source": [
    "### Add Waze Navigation Integration\n",
    "Let's add a custom integration to allow workers to navigator to assignments using Waze."
   ]
  },
  {
   "cell_type": "code",
   "execution_count": null,
   "metadata": {
    "collapsed": true
   },
   "outputs": [],
   "source": [
    "waze_url = \"https://waze.com/ul?ll=${assignment.latitude},${assignment.longitude}&navigate=yes\""
   ]
  },
  {
   "cell_type": "code",
   "execution_count": null,
   "metadata": {
    "collapsed": true
   },
   "outputs": [],
   "source": [
    "project.integrations.add(\"waze-navigation\", \"Navigate Using Waze\", waze_url)"
   ]
  }
 ],
 "metadata": {
  "kernelspec": {
   "display_name": "Python 3",
   "language": "python",
   "name": "python3"
  },
  "language_info": {
   "codemirror_mode": {
    "name": "ipython",
    "version": 3
   },
   "file_extension": ".py",
   "mimetype": "text/x-python",
   "name": "python",
   "nbconvert_exporter": "python",
   "pygments_lexer": "ipython3",
   "version": "3.6.0"
  }
 },
 "nbformat": 4,
 "nbformat_minor": 2
}
