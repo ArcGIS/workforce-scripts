{
 "cells": [
  {
   "cell_type": "markdown",
   "metadata": {},
   "source": [
    "# Spatially Assign Work\n",
    "In this example, assignments will be assigned to specific workers based on the city district that it falls in. A layer in ArcGIS Online representing the city districts in San Diego will be used.\n",
    "\n",
    "**Note:** This example requires having Arcpy or Shapely installed in the Python environment."
   ]
  },
  {
   "cell_type": "code",
   "execution_count": null,
   "metadata": {
    "collapsed": true
   },
   "outputs": [],
   "source": [
    "from datetime import datetime\n",
    "from arcgis.gis import GIS\n",
    "from arcgis.geometry import Geometry\n",
    "from arcgis.mapping import WebMap\n",
    "from arcgis.apps import workforce"
   ]
  },
  {
   "cell_type": "markdown",
   "metadata": {},
   "source": [
    "### Connect to organization and Get the Project\n",
    "Let's connect to ArcGIS Online and get the Project with assignments."
   ]
  },
  {
   "cell_type": "code",
   "execution_count": null,
   "metadata": {
    "collapsed": true
   },
   "outputs": [],
   "source": [
    "gis = GIS(\"https://arcgis.com\", \"workforce_scripts\")\n",
    "item = gis.content.get(\"1f7b42024da544f6b1e557889e858ac6\")\n",
    "project = workforce.Project(item)"
   ]
  },
  {
   "cell_type": "markdown",
   "metadata": {},
   "source": [
    "### Get Layer of City Districts\n",
    "Let's get the layer representing city districts and display it."
   ]
  },
  {
   "cell_type": "code",
   "execution_count": null,
   "metadata": {
    "collapsed": false
   },
   "outputs": [],
   "source": [
    "districts_layer = gis.content.get(\"08eecb2f46c740aaba316cef8a719a88\").layers[0]\n",
    "districts_map = gis.map(\"San Diego, CA\", zoomlevel=12)\n",
    "districts_map.add_layer(districts_layer)\n",
    "districts_map"
   ]
  },
  {
   "cell_type": "markdown",
   "metadata": {},
   "source": [
    "### Add Assignments to the Map"
   ]
  },
  {
   "cell_type": "code",
   "execution_count": null,
   "metadata": {
    "collapsed": true
   },
   "outputs": [],
   "source": [
    "districts_map.add_layer(project.assignments_layer)"
   ]
  },
  {
   "cell_type": "markdown",
   "metadata": {},
   "source": [
    "### Assign Assignments Based on Which District They Intersect\n",
    "Let's fetch the districts layer and query to get all of the districts. Then, for each unassigned assignment intersect the assignment with all districts to determine which district it falls in. Assignments in the yellow district (3) should be assigned to James. Assignments in the red district (8) should be assigned to Aaron. Finally update all of the assignments using \"batch_update\"."
   ]
  },
  {
   "cell_type": "code",
   "execution_count": null,
   "metadata": {
    "collapsed": true
   },
   "outputs": [],
   "source": [
    "aaron = project.workers.get(user_id=\"aaron_nitro\")\n",
    "james = project.workers.get(user_id=\"james_nitro\")"
   ]
  },
  {
   "cell_type": "code",
   "execution_count": null,
   "metadata": {
    "collapsed": true
   },
   "outputs": [],
   "source": [
    "# Fetch the districts\n",
    "districts_df = districts_layer.query().df\n",
    "# Fetch the unassigned assignments\n",
    "assignments = project.assignments.search(\"status=0\")\n",
    "for assignment in assignments:\n",
    "    # Intersect the assignment with each district\n",
    "    contains_df = districts_df.contains(Geometry(assignment.geometry))\n",
    "    # Determine which distict the assignment falls in\n",
    "    containers = districts_df[contains_df]\n",
    "    \n",
    "    # If the assignment intersects any district\n",
    "    if not containers.empty: \n",
    "        # Get the district number of the first intersecting district\n",
    "        section = containers['district'].iloc[0]\n",
    "        # Assign the assignment based on the district it's in\n",
    "        if section == 3:\n",
    "            assignment.worker = james\n",
    "            assignment.status = \"assigned\"\n",
    "            assignment.assigned_date = datetime.utcnow()\n",
    "        elif section == 8:\n",
    "            assignment.worker = aaron\n",
    "            assignment.status = \"assigned\"\n",
    "            assignment.assigned_date = datetime.utcnow()\n",
    "\n",
    "# Update the assignments in the project\n",
    "assignments = project.assignments.batch_update(assignments)"
   ]
  },
  {
   "cell_type": "markdown",
   "metadata": {},
   "source": [
    "### Verify Assignments are Assigned"
   ]
  },
  {
   "cell_type": "code",
   "execution_count": null,
   "metadata": {
    "collapsed": false
   },
   "outputs": [],
   "source": [
    "webmap = gis.map(\"San Diego\", zoomlevel=14)\n",
    "webmap.add_layer(project.assignments_layer)\n",
    "webmap"
   ]
  }
 ],
 "metadata": {
  "kernelspec": {
   "display_name": "Python 3",
   "language": "python",
   "name": "python3"
  },
  "language_info": {
   "codemirror_mode": {
    "name": "ipython",
    "version": 3
   },
   "file_extension": ".py",
   "mimetype": "text/x-python",
   "name": "python",
   "nbconvert_exporter": "python",
   "pygments_lexer": "ipython3",
   "version": "3.6.0"
  }
 },
 "nbformat": 4,
 "nbformat_minor": 2
}
