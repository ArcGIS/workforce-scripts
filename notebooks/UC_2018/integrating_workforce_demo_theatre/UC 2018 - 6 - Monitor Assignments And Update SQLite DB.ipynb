{
 "cells": [
  {
   "cell_type": "markdown",
   "metadata": {},
   "source": [
    "# Monitor Assignments and Update SQLite Table with Changes\n",
    "In this example, the \"Sidewalk Repair\" assignments will be monitored. When a sidewalk as been repaired, the corresponding work order will be updated in the SQLite table to be marked as \"Completed\"."
   ]
  },
  {
   "cell_type": "code",
   "execution_count": null,
   "metadata": {
    "collapsed": true
   },
   "outputs": [],
   "source": [
    "import sqlite3\n",
    "from datetime import datetime, timedelta\n",
    "import time\n",
    "import pandas as pd\n",
    "from arcgis.gis import GIS\n",
    "from arcgis.apps import workforce"
   ]
  },
  {
   "cell_type": "markdown",
   "metadata": {},
   "source": [
    "### Connect to Organization and Get the Project\n",
    "Connect to ArcGIS Online and get the Project with assignments."
   ]
  },
  {
   "cell_type": "code",
   "execution_count": null,
   "metadata": {
    "collapsed": true
   },
   "outputs": [],
   "source": [
    "gis = GIS(\"https://arcgis.com\", \"workforce_scripts\")\n",
    "item = gis.content.get(\"1f7b42024da544f6b1e557889e858ac6\")\n",
    "project = workforce.Project(item)"
   ]
  },
  {
   "cell_type": "markdown",
   "metadata": {},
   "source": [
    "### Connect to the SQLite Database and Review the Work Orders\n",
    "Let's review what the work order table looks like."
   ]
  },
  {
   "cell_type": "code",
   "execution_count": null,
   "metadata": {
    "collapsed": false
   },
   "outputs": [],
   "source": [
    "connection = sqlite3.connect(\"work_orders\")\n",
    "df = pd.read_sql_query(\"select * from work_orders\", connection)\n",
    "df"
   ]
  },
  {
   "cell_type": "markdown",
   "metadata": {},
   "source": [
    "### Monitor the Project for Completed Assignments\n",
    "Let's run a loop that will check for \"Completed\" \"Sidewalk Repair\" assignments. When an assignment is returned from ArcGIS Online, let's change the value of it's status in the SQLite table from \"Backlog\" to \"Completed\". This is accomplished by leveraging the \"work_order_id\" field to lightweight-join the SQLite table to the workforce assignments feature service. When running the following section, complete a \"Sidewalk Repair\" Assignment on the mobile app."
   ]
  },
  {
   "cell_type": "code",
   "execution_count": null,
   "metadata": {
    "collapsed": false
   },
   "outputs": [],
   "source": [
    "processed_orders = [\"-1\"]\n",
    "# Run in a loop (for demo only)\n",
    "for i in range(0, 12):\n",
    "    print(\"Waiting...\")\n",
    "    time.sleep(5)\n",
    "    where_clause = f\"status=3 AND assignmentType=2 AND workOrderId NOT IN ({','.join(processed_orders)})\"\n",
    "    print(f\"Checking for updates... {where_clause}\")\n",
    "    assignments = project.assignments.search(where_clause)\n",
    "    for assignment in assignments:\n",
    "        cur = connection.cursor()\n",
    "        values = ('Completed', assignment.notes, assignment.work_order_id,)\n",
    "        cur.execute(\"update work_orders set status=?, notes=? where id=?\", values)\n",
    "        connection.commit()\n",
    "        processed_orders.append(assignment.work_order_id)\n",
    "        print(\"Completed Assignment Processed\")"
   ]
  },
  {
   "cell_type": "markdown",
   "metadata": {},
   "source": [
    "### Verify the Changes\n",
    "Let's verify that the changes were actually written to the SQLite table."
   ]
  },
  {
   "cell_type": "code",
   "execution_count": null,
   "metadata": {
    "collapsed": false
   },
   "outputs": [],
   "source": [
    "df = pd.read_sql_query(\"select * from work_orders\", connection)\n",
    "df"
   ]
  }
 ],
 "metadata": {
  "kernelspec": {
   "display_name": "Python 3",
   "language": "python",
   "name": "python3"
  },
  "language_info": {
   "codemirror_mode": {
    "name": "ipython",
    "version": 3
   },
   "file_extension": ".py",
   "mimetype": "text/x-python",
   "name": "python",
   "nbconvert_exporter": "python",
   "pygments_lexer": "ipython3",
   "version": "3.6.0"
  }
 },
 "nbformat": 4,
 "nbformat_minor": 2
}
