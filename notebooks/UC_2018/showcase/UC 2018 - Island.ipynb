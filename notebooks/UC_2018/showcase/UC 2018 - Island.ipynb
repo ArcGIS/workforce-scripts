{
 "cells": [
  {
   "cell_type": "markdown",
   "metadata": {},
   "source": [
    "# Using the ArcGIS API for Python to Manage Workforce Projects\n",
    "In the following example, a Workforce Project will be configured to manage restaurant inspections."
   ]
  },
  {
   "cell_type": "markdown",
   "metadata": {},
   "source": [
    "### Import the required modules\n",
    "This example requires version 1.4.1 or higher of the ArcGIS API for Python."
   ]
  },
  {
   "cell_type": "code",
   "execution_count": null,
   "metadata": {
    "collapsed": true
   },
   "outputs": [],
   "source": [
    "import datetime\n",
    "import json\n",
    "import arcgis\n",
    "from arcgis.apps import workforce\n",
    "from arcgis.gis import GIS\n",
    "from arcgis.geometry import Geometry"
   ]
  },
  {
   "cell_type": "markdown",
   "metadata": {},
   "source": [
    "### Connect to ArcGIS Online and get the Project\n",
    "Let's sign into ArcGIS Online and get the Workforce Project to manage."
   ]
  },
  {
   "cell_type": "code",
   "execution_count": null,
   "metadata": {
    "collapsed": true,
    "scrolled": true
   },
   "outputs": [],
   "source": [
    "gis = GIS(\"https://arcgis.com\", \"workforce_backoffice\")\n",
    "item = gis.content.get(\"a6a82fcf1c264694890ed7b82aa2df2e\")\n",
    "project = workforce.Project(item)"
   ]
  },
  {
   "cell_type": "markdown",
   "metadata": {},
   "source": [
    "### Check out the project schema\n",
    "Let's look at the project json structure. Notice there are 2 webmaps, 4 feature services, a group, a folder, and some other metadata."
   ]
  },
  {
   "cell_type": "code",
   "execution_count": null,
   "metadata": {
    "collapsed": true
   },
   "outputs": [],
   "source": [
    "project_data = item.get_data()\n",
    "print(json.dumps(project_data, indent=2))"
   ]
  },
  {
   "cell_type": "markdown",
   "metadata": {},
   "source": [
    "### Create an assignment type\n",
    "Let's add a new assignment type named \"Restaurant Inspection\" to the project."
   ]
  },
  {
   "cell_type": "code",
   "execution_count": null,
   "metadata": {
    "collapsed": true
   },
   "outputs": [],
   "source": [
    "restaurant_inspection = project.assignment_types.add(name=\"Restaurant Inspections\")"
   ]
  },
  {
   "cell_type": "markdown",
   "metadata": {},
   "source": [
    "### Add three workers to the project\n",
    "Let's add three inspectors to the project."
   ]
  },
  {
   "cell_type": "code",
   "execution_count": null,
   "metadata": {
    "collapsed": true
   },
   "outputs": [],
   "source": [
    "aaron = project.workers.add(name=\"Aaron Pulver\",\n",
    "                    user_id=\"aaron_nitro\",\n",
    "                    status=\"not_working\")\n",
    "\n",
    "james = project.workers.add(name=\"Jame McManus\",\n",
    "                    user_id=\"james_Nitro\",\n",
    "                    status=\"not_working\")\n",
    "\n",
    "nitropublisher = project.workers.add(name=\"Nitro Publisher\",\n",
    "                    user_id=\"nitropublisher\",\n",
    "                    status=\"not_working\")"
   ]
  },
  {
   "cell_type": "markdown",
   "metadata": {},
   "source": [
    "### View the restaurants that need an inspection\n",
    "Let's view the restaurants that need to be inspected."
   ]
  },
  {
   "cell_type": "code",
   "execution_count": null,
   "metadata": {
    "collapsed": true,
    "scrolled": false
   },
   "outputs": [],
   "source": [
    "restaurants_layer = gis.content.get(\"965b5702333742bd98bc5f0c0d4d1f69\").layers[0]\n",
    "webmap = gis.map(\"San Diego\", zoomlevel=14)\n",
    "webmap.add_layer(restaurants_layer)\n",
    "webmap"
   ]
  },
  {
   "cell_type": "markdown",
   "metadata": {},
   "source": [
    "### View the city districts\n",
    "Let's view the different city districts."
   ]
  },
  {
   "cell_type": "code",
   "execution_count": null,
   "metadata": {
    "collapsed": true,
    "scrolled": false
   },
   "outputs": [],
   "source": [
    "districts_layer = gis.content.get(\"08eecb2f46c740aaba316cef8a719a88\").layers[0]\n",
    "webmap = gis.map(\"San Diego\", zoomlevel=12)\n",
    "webmap.add_layer(districts_layer)\n",
    "webmap"
   ]
  },
  {
   "cell_type": "markdown",
   "metadata": {},
   "source": [
    "### View the districts data\n",
    "Let's see what data is available. Notice the district number."
   ]
  },
  {
   "cell_type": "code",
   "execution_count": null,
   "metadata": {
    "collapsed": true,
    "scrolled": true
   },
   "outputs": [],
   "source": [
    "districts_df = districts_layer.query().df\n",
    "districts_df"
   ]
  },
  {
   "cell_type": "markdown",
   "metadata": {},
   "source": [
    "### Add layers to dispatcher webmap\n",
    "Let's add the restaurants and district layers to the webmap but make them not visible by default."
   ]
  },
  {
   "cell_type": "code",
   "execution_count": null,
   "metadata": {
    "collapsed": true
   },
   "outputs": [],
   "source": [
    "project.dispatcher_webmap.remove_layer(project.dispatcher_webmap.layers[0])\n",
    "project.dispatcher_webmap.remove_layer(project.dispatcher_webmap.layers[0])\n",
    "project.dispatcher_webmap.add_layer(districts_layer, {\"visibility\": False})\n",
    "project.dispatcher_webmap.add_layer(restaurants_layer, {\"visibility\": False})\n",
    "project.dispatcher_webmap.add_layer(project.assignments_layer)\n",
    "project.dispatcher_webmap.add_layer(project.workers_layer)\n",
    "project.dispatcher_webmap.update({})"
   ]
  },
  {
   "cell_type": "markdown",
   "metadata": {},
   "source": [
    "### Create assignments for each restaurant and assign based on district\n",
    "Let's create an assignment to inspect each restaurants. If the restaurant is in district 7 then assign it to Aaron. If the restaurant is in distrit 8 then assign it to James. If the restaurant is in district 6, assign it to Nitro Publisher."
   ]
  },
  {
   "cell_type": "code",
   "execution_count": null,
   "metadata": {
    "collapsed": true,
    "scrolled": true
   },
   "outputs": [],
   "source": [
    "# List of inspections to add\n",
    "inspections = []\n",
    "\n",
    "# dispatcher to create assignments\n",
    "dispatcher = project.dispatchers.get(user_id=gis.users.me.username)\n",
    "\n",
    "# Query all of the restaurants\n",
    "restaurant_features = restaurants_layer.query(out_sr=3857).features\n",
    "for restaurant in restaurant_features:\n",
    "    \n",
    "    # Determine which district (if any) the restaurant is in\n",
    "    contains_df = districts_df.contains(Geometry(restaurant.geometry))\n",
    "    container = districts_df[contains_df]\n",
    "\n",
    "    # If it is in a district then lets make an assignment for it\n",
    "    if not container.empty:\n",
    "        district = container['district'].iloc[0]\n",
    "        if district == 7:\n",
    "            worker = aaron\n",
    "            status = \"assigned\"\n",
    "        elif district == 8:\n",
    "            worker = james\n",
    "            status = \"assigned\"\n",
    "        elif district == 6:\n",
    "            worker = nitropublisher\n",
    "            status = \"assigned\"\n",
    "        else:\n",
    "            worker = None\n",
    "            status = \"unassigned\"\n",
    "\n",
    "        # Create the assignment\n",
    "        inspections.append(workforce.Assignment(\n",
    "            project,\n",
    "            geometry=restaurant.geometry,\n",
    "            location=restaurant.attributes['SanDiegoABC_Site_Addr1'],\n",
    "            status=status,\n",
    "            assignment_type=restaurant_inspection,\n",
    "            worker=worker,\n",
    "            dispatcher=dispatcher,\n",
    "            priority=\"high\",\n",
    "            due_date=datetime.datetime.utcnow() + datetime.timedelta(days=3),\n",
    "            assigned_date=datetime.datetime.utcnow()\n",
    "        ))\n",
    "        \n",
    "# Add the assignments to your project\n",
    "project.assignments.batch_add(inspections)"
   ]
  },
  {
   "cell_type": "markdown",
   "metadata": {},
   "source": [
    "### View assignments\n",
    "Let's validate that the assignments were created."
   ]
  },
  {
   "cell_type": "code",
   "execution_count": null,
   "metadata": {
    "collapsed": true
   },
   "outputs": [],
   "source": [
    "webmap = gis.map(\"San Diego\", zoomlevel=12)\n",
    "webmap.add_layer(project.assignments_layer)\n",
    "webmap"
   ]
  },
  {
   "cell_type": "markdown",
   "metadata": {},
   "source": [
    "### Reset the project\n",
    "For Demo Only - Use this to reset the project to re-run the entire notebook."
   ]
  },
  {
   "cell_type": "code",
   "execution_count": null,
   "metadata": {
    "collapsed": true
   },
   "outputs": [],
   "source": [
    "project.assignments_item.layers[0].delete_features(where=\"1=1\")\n",
    "project.workers.batch_delete(project.workers.search())\n",
    "project.assignment_types.batch_delete(project.assignment_types.search())\n",
    "for layer in project.dispatcher_webmap.layers[:-2]:\n",
    "    project.dispatcher_webmap.remove_layer(layer)\n",
    "project.dispatcher_webmap.update({})"
   ]
  }
 ],
 "metadata": {
  "kernelspec": {
   "display_name": "Python 3",
   "language": "python",
   "name": "python3"
  },
  "language_info": {
   "codemirror_mode": {
    "name": "ipython",
    "version": 3
   },
   "file_extension": ".py",
   "mimetype": "text/x-python",
   "name": "python",
   "nbconvert_exporter": "python",
   "pygments_lexer": "ipython3",
   "version": "3.6.8"
  }
 },
 "nbformat": 4,
 "nbformat_minor": 2
}
