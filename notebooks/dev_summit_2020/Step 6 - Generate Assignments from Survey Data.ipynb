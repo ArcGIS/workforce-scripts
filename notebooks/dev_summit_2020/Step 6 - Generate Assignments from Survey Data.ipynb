{
 "cells": [
  {
   "cell_type": "markdown",
   "metadata": {
    "collapsed": true
   },
   "source": [
    "## Generate Assignments from Survey Data\n",
    "\n",
    "One common app used in integration with Workforce is Survey123. Dispatchers may want to take captured survey data to then drive new assignments - allowing the field worker to have control over what assignments are made. Say a field worker sees a sidewalk repair that needs to be completed, but doesn't have time to accomplish it or the dispatcher access to create an assignment. We can instead have them collect to a survey and then run our Jupyter Notebook to convert those surveys to assignments. "
   ]
  },
  {
   "cell_type": "code",
   "execution_count": null,
   "metadata": {},
   "outputs": [],
   "source": [
    "import arcgis\n",
    "from arcgis.apps import workforce\n",
    "from arcgis.gis import GIS\n",
    "from arcgis.geocoding import reverse_geocode\n",
    "gis = GIS(\"https://arcgis.com\", \"workforce_scripts\")\n",
    "item = gis.content.get(\"c765482bd0b9479b9104368da54df90d\")\n",
    "project = workforce.Project(item)\n",
    "project"
   ]
  },
  {
   "cell_type": "markdown",
   "metadata": {},
   "source": [
    "### Get Survey Data\n",
    "\n",
    "Let's see what surveys have been submitted to the survey \"Sidewalk Repair\" and visualize this data on the map."
   ]
  },
  {
   "cell_type": "code",
   "execution_count": null,
   "metadata": {},
   "outputs": [],
   "source": [
    "survey_item = gis.content.get(\"9e97878a0d344408a5f2357d3e51aad4\")\n",
    "df = survey_item.layers[0].query('1=1',as_df=True)\n",
    "df"
   ]
  },
  {
   "cell_type": "code",
   "execution_count": null,
   "metadata": {},
   "outputs": [],
   "source": [
    "# Visualize on map\n",
    "webmap = gis.map(\"Palm Desert\", zoomlevel=11)\n",
    "webmap.basemap = 'streets-night-vector'\n",
    "webmap.add_layer(survey_item.layers[0])\n",
    "webmap"
   ]
  },
  {
   "cell_type": "markdown",
   "metadata": {},
   "source": [
    "### Get Surveys which should become new assignments\n",
    "\n",
    "Now, let's take all the surveys which have \"new_assignment\" equal to Yes and create a corresponding assignment. We'll also need to ensure that we're not creating a duplicate - we'll do this by performing a check on the geometry of the assignments.\n"
   ]
  },
  {
   "cell_type": "code",
   "execution_count": null,
   "metadata": {},
   "outputs": [],
   "source": [
    "import math\n",
    "\n",
    "def same_geometry(geometry_1, geometry_2):\n",
    "    if math.isclose(geometry_1[\"x\"], geometry_2[\"x\"], abs_tol=0.001) and math.isclose(geometry_1[\"y\"], geometry_2[\"y\"], abs_tol=0.001):\n",
    "        return True\n",
    "    else:\n",
    "        return False\n",
    "\n",
    "assignments = project.assignments.search()\n",
    "surveys = survey_item.layers[0].query('1=1').features\n",
    "surveys_to_add = []\n",
    "for survey in surveys:\n",
    "    geometry = arcgis.geometry.project([survey.geometry], in_sr=4326,out_sr=3857)[0]\n",
    "    if survey.attributes[\"new_assignment\"] == \"Yes\" and not any(same_geometry(geometry, assignment.geometry) for assignment in assignments):\n",
    "        surveys_to_add.append(survey)\n",
    "        \n",
    "print(\"Surveys to be added as Assignments: \" + str(len(surveys_to_add)))"
   ]
  },
  {
   "cell_type": "markdown",
   "metadata": {},
   "source": [
    "### Create New Assignments and Visualize\n",
    "\n",
    "Let's now add our surveys to the assignments and re-visualize them on a map. The neat thing here is we'll use reverse geocoding to store the location field!"
   ]
  },
  {
   "cell_type": "code",
   "execution_count": null,
   "metadata": {},
   "outputs": [],
   "source": [
    "new_assignments = []\n",
    "for survey in surveys_to_add:\n",
    "    new_assignments.append(\n",
    "        workforce.Assignment(\n",
    "            project,\n",
    "            geometry=arcgis.geometry.project([survey.geometry], in_sr=4326,out_sr=3857)[0],\n",
    "            location=reverse_geocode(survey.geometry)[\"address\"][\"Match_addr\"],\n",
    "            notes=survey.attributes[\"notes\"],\n",
    "            priority=survey.attributes[\"priority\"],\n",
    "            assignment_type=\"Sidewalk Repair\",\n",
    "            status=\"unassigned\"\n",
    "        )\n",
    "    )\n",
    "project.assignments.batch_add(new_assignments)\n",
    "webmap2 = gis.map(\"Palm Desert\", zoomlevel=10)\n",
    "webmap2.basemap = 'streets-night-vector'\n",
    "webmap2.add_layer(project.assignments_item)\n",
    "webmap2"
   ]
  },
  {
   "cell_type": "markdown",
   "metadata": {},
   "source": [
    "### Create a Scheduled Task\n",
    "\n",
    "You probably wouldn't want to be running this Notebook every time you need surveys turned into assignments; you should instead create a scheduled tasks that runs at a certain frequency on a computer. You could extract the Python code out of this notebook and follow the instructions at: https://www.esri.com/arcgis-blog/products/product/analytics/scheduling-a-python-script-or-model-to-run-at-a-prescribed-time/"
   ]
  },
  {
   "cell_type": "code",
   "execution_count": null,
   "metadata": {},
   "outputs": [],
   "source": []
  }
 ],
 "metadata": {
  "kernelspec": {
   "display_name": "Python 3",
   "language": "python",
   "name": "python3"
  },
  "language_info": {
   "codemirror_mode": {
    "name": "ipython",
    "version": 3
   },
   "file_extension": ".py",
   "mimetype": "text/x-python",
   "name": "python",
   "nbconvert_exporter": "python",
   "pygments_lexer": "ipython3",
   "version": "3.7.0"
  }
 },
 "nbformat": 4,
 "nbformat_minor": 1
}
