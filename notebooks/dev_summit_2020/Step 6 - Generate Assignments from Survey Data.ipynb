{
 "cells": [
  {
   "cell_type": "markdown",
   "metadata": {
    "collapsed": true
   },
   "source": [
    "## Generate Assignments from Survey Data\n",
    "\n",
    "One common app used in integration with Workforce is Survey123. Dispatchers may want to take captured survey data to then drive new assignments - allowing the field worker to have control over what assignments are made. Say a field worker sees a sidewalk repair that needs to be completed, but doesn't have time to accomplish it or the dispatcher access to create an assignment. We can instead have them collect to a survey and then run our Jupyter Notebook to convert those surveys to assignments. "
   ]
  },
  {
   "cell_type": "code",
   "execution_count": 61,
   "metadata": {},
   "outputs": [
    {
     "name": "stdout",
     "output_type": "stream",
     "text": [
      "Enter password: ········\n"
     ]
    },
    {
     "data": {
      "text/plain": [
       "<Project Dev Summit 2020: Configuring a Project>"
      ]
     },
     "execution_count": 61,
     "metadata": {},
     "output_type": "execute_result"
    }
   ],
   "source": [
    "import arcgis\n",
    "from arcgis.apps import workforce\n",
    "from arcgis.gis import GIS\n",
    "from arcgis.geocoding import reverse_geocode\n",
    "gis = GIS(\"https://arcgis.com\", \"workforce_scripts\")\n",
    "item = gis.content.get(\"c765482bd0b9479b9104368da54df90d\")\n",
    "project = workforce.Project(item)\n",
    "project"
   ]
  },
  {
   "cell_type": "markdown",
   "metadata": {},
   "source": [
    "### Get Survey Data\n",
    "\n",
    "Let's see what surveys have been submitted to the survey \"Sidewalk Repair\" and visualize this data on the map."
   ]
  },
  {
   "cell_type": "code",
   "execution_count": 58,
   "metadata": {},
   "outputs": [
    {
     "data": {
      "text/html": [
       "<div>\n",
       "<style scoped>\n",
       "    .dataframe tbody tr th:only-of-type {\n",
       "        vertical-align: middle;\n",
       "    }\n",
       "\n",
       "    .dataframe tbody tr th {\n",
       "        vertical-align: top;\n",
       "    }\n",
       "\n",
       "    .dataframe thead th {\n",
       "        text-align: right;\n",
       "    }\n",
       "</style>\n",
       "<table border=\"1\" class=\"dataframe\">\n",
       "  <thead>\n",
       "    <tr style=\"text-align: right;\">\n",
       "      <th></th>\n",
       "      <th>objectid</th>\n",
       "      <th>globalid</th>\n",
       "      <th>CreationDate</th>\n",
       "      <th>Creator</th>\n",
       "      <th>EditDate</th>\n",
       "      <th>Editor</th>\n",
       "      <th>notes</th>\n",
       "      <th>priority</th>\n",
       "      <th>new_assignment</th>\n",
       "      <th>SHAPE</th>\n",
       "    </tr>\n",
       "  </thead>\n",
       "  <tbody>\n",
       "    <tr>\n",
       "      <th>0</th>\n",
       "      <td>1</td>\n",
       "      <td>00c245a4-3f29-4261-8613-ecdd30d92d1a</td>\n",
       "      <td>2020-02-21 16:26:13.954</td>\n",
       "      <td>workforce_scripts</td>\n",
       "      <td>2020-02-21 16:31:32.858</td>\n",
       "      <td>workforce_scripts</td>\n",
       "      <td>Asphalt</td>\n",
       "      <td>Low</td>\n",
       "      <td>Yes</td>\n",
       "      <td>{\"x\": -116.39117449518953, \"y\": 33.72203070875...</td>\n",
       "    </tr>\n",
       "    <tr>\n",
       "      <th>1</th>\n",
       "      <td>2</td>\n",
       "      <td>ffb9205c-5039-46be-9f76-00980fedefb8</td>\n",
       "      <td>2020-02-21 16:26:52.822</td>\n",
       "      <td>workforce_scripts</td>\n",
       "      <td>2020-02-21 16:31:44.516</td>\n",
       "      <td>workforce_scripts</td>\n",
       "      <td>Gravel</td>\n",
       "      <td>Low</td>\n",
       "      <td>No</td>\n",
       "      <td>{\"x\": -116.24400582236498, \"y\": 33.76597659571...</td>\n",
       "    </tr>\n",
       "    <tr>\n",
       "      <th>2</th>\n",
       "      <td>3</td>\n",
       "      <td>44812945-84d7-47e4-b037-40cd9c8daa6d</td>\n",
       "      <td>2020-02-21 16:28:07.827</td>\n",
       "      <td>workforce_scripts</td>\n",
       "      <td>2020-02-21 16:31:42.583</td>\n",
       "      <td>workforce_scripts</td>\n",
       "      <td>Concrete</td>\n",
       "      <td>Critical</td>\n",
       "      <td>Yes</td>\n",
       "      <td>{\"x\": -116.28632035178384, \"y\": 33.72907951333...</td>\n",
       "    </tr>\n",
       "  </tbody>\n",
       "</table>\n",
       "</div>"
      ],
      "text/plain": [
       "   objectid                              globalid            CreationDate  \\\n",
       "0         1  00c245a4-3f29-4261-8613-ecdd30d92d1a 2020-02-21 16:26:13.954   \n",
       "1         2  ffb9205c-5039-46be-9f76-00980fedefb8 2020-02-21 16:26:52.822   \n",
       "2         3  44812945-84d7-47e4-b037-40cd9c8daa6d 2020-02-21 16:28:07.827   \n",
       "\n",
       "             Creator                EditDate             Editor     notes  \\\n",
       "0  workforce_scripts 2020-02-21 16:31:32.858  workforce_scripts   Asphalt   \n",
       "1  workforce_scripts 2020-02-21 16:31:44.516  workforce_scripts    Gravel   \n",
       "2  workforce_scripts 2020-02-21 16:31:42.583  workforce_scripts  Concrete   \n",
       "\n",
       "   priority new_assignment                                              SHAPE  \n",
       "0       Low            Yes  {\"x\": -116.39117449518953, \"y\": 33.72203070875...  \n",
       "1       Low             No  {\"x\": -116.24400582236498, \"y\": 33.76597659571...  \n",
       "2  Critical            Yes  {\"x\": -116.28632035178384, \"y\": 33.72907951333...  "
      ]
     },
     "execution_count": 58,
     "metadata": {},
     "output_type": "execute_result"
    }
   ],
   "source": [
    "survey_item = gis.content.get(\"9e97878a0d344408a5f2357d3e51aad4\")\n",
    "df = survey_item.layers[0].query('1=1',as_df=True)\n",
    "df"
   ]
  },
  {
   "cell_type": "code",
   "execution_count": 59,
   "metadata": {},
   "outputs": [
    {
     "data": {
      "application/vnd.jupyter.widget-view+json": {
       "model_id": "03541b2cf74649538ff12ba5c6f44333",
       "version_major": 2,
       "version_minor": 0
      },
      "text/plain": [
       "MapView(layout=Layout(height='400px', width='100%'), zoom=11.0)"
      ]
     },
     "metadata": {},
     "output_type": "display_data"
    },
    {
     "data": {
      "text/html": [
       "<div class=\"map-static-img-preview-2b89370c-43b6-4af0-b6ac-0a9a11c39b3e\"><img src=\"\"></img></div>"
      ],
      "text/plain": [
       "<IPython.core.display.HTML object>"
      ]
     },
     "metadata": {},
     "output_type": "display_data"
    }
   ],
   "source": [
    "# Visualize on map\n",
    "\n",
    "webmap = gis.map(\"Palm Desert\", zoomlevel=11)\n",
    "webmap.basemap = 'streets-night-vector'\n",
    "webmap.add_layer(survey_item.layers[0])\n",
    "webmap"
   ]
  },
  {
   "cell_type": "markdown",
   "metadata": {},
   "source": [
    "### Get Surveys which should become new assignments\n",
    "\n",
    "Now, let's take all the surveys which have \"new_assignment\" equal to Yes and create a corresponding assignment. We'll also need to ensure that we're not creating a duplicate - we'll do this by performing a check on the geometry of the assignments.\n"
   ]
  },
  {
   "cell_type": "code",
   "execution_count": 67,
   "metadata": {},
   "outputs": [
    {
     "ename": "RequestException",
     "evalue": "{'code': 400, 'message': 'Unable to generate token', 'details': ['Unable to generate token for this server']}",
     "output_type": "error",
     "traceback": [
      "\u001b[0;31m---------------------------------------------------------------------------\u001b[0m",
      "\u001b[0;31mException\u001b[0m                                 Traceback (most recent call last)",
      "\u001b[0;32m~/anaconda3/envs/workforce-scripts/lib/python3.7/site-packages/arcgis/_impl/tools.py\u001b[0m in \u001b[0;36m__init__\u001b[0;34m(self, url, gis)\u001b[0m\n\u001b[1;32m    264\u001b[0m                     \u001b[0;32mtry\u001b[0m\u001b[0;34m:\u001b[0m\u001b[0;34m\u001b[0m\u001b[0m\n\u001b[0;32m--> 265\u001b[0;31m                         \u001b[0mself\u001b[0m\u001b[0;34m.\u001b[0m\u001b[0m_token\u001b[0m \u001b[0;34m=\u001b[0m \u001b[0mself\u001b[0m\u001b[0;34m.\u001b[0m\u001b[0m_con\u001b[0m\u001b[0;34m.\u001b[0m\u001b[0mgenerate_portal_server_token\u001b[0m\u001b[0;34m(\u001b[0m\u001b[0murl\u001b[0m\u001b[0;34m)\u001b[0m\u001b[0;34m\u001b[0m\u001b[0m\n\u001b[0m\u001b[1;32m    266\u001b[0m                     \u001b[0;32mexcept\u001b[0m \u001b[0mException\u001b[0m \u001b[0;32mas\u001b[0m \u001b[0me\u001b[0m\u001b[0;34m:\u001b[0m \u001b[0;31m# GUESSED Auth Wrong, try anonymously\u001b[0m\u001b[0;34m\u001b[0m\u001b[0m\n",
      "\u001b[0;32m~/anaconda3/envs/workforce-scripts/lib/python3.7/site-packages/arcgis/gis/_impl/_con/_connection.py\u001b[0m in \u001b[0;36mgenerate_portal_server_token\u001b[0;34m(self, serverUrl, expiration)\u001b[0m\n\u001b[1;32m   1182\u001b[0m             resp = self.post(path=self._token_url, postdata=postdata,\n\u001b[0;32m-> 1183\u001b[0;31m                              ssl=True, add_token=False)\n\u001b[0m\u001b[1;32m   1184\u001b[0m         \u001b[0;32mif\u001b[0m \u001b[0misinstance\u001b[0m\u001b[0;34m(\u001b[0m\u001b[0mresp\u001b[0m\u001b[0;34m,\u001b[0m \u001b[0mdict\u001b[0m\u001b[0;34m)\u001b[0m \u001b[0;32mand\u001b[0m \u001b[0mresp\u001b[0m\u001b[0;34m:\u001b[0m\u001b[0;34m\u001b[0m\u001b[0m\n",
      "\u001b[0;32m~/anaconda3/envs/workforce-scripts/lib/python3.7/site-packages/arcgis/gis/_impl/_con/_connection.py\u001b[0m in \u001b[0;36mpost\u001b[0;34m(self, path, params, files, **kwargs)\u001b[0m\n\u001b[1;32m    629\u001b[0m                                      \u001b[0mtry_json\u001b[0m\u001b[0;34m=\u001b[0m\u001b[0mtry_json\u001b[0m\u001b[0;34m,\u001b[0m\u001b[0;34m\u001b[0m\u001b[0m\n\u001b[0;32m--> 630\u001b[0;31m                                      force_bytes=kwargs.pop('force_bytes', False))\n\u001b[0m\u001b[1;32m    631\u001b[0m     \u001b[0;31m#----------------------------------------------------------------------\u001b[0m\u001b[0;34m\u001b[0m\u001b[0;34m\u001b[0m\u001b[0m\n",
      "\u001b[0;32m~/anaconda3/envs/workforce-scripts/lib/python3.7/site-packages/arcgis/gis/_impl/_con/_connection.py\u001b[0m in \u001b[0;36m_handle_response\u001b[0;34m(self, resp, file_name, out_path, try_json, force_bytes)\u001b[0m\n\u001b[1;32m    450\u001b[0m             \u001b[0;32mif\u001b[0m \u001b[0;34m'error'\u001b[0m \u001b[0;32min\u001b[0m \u001b[0mdata\u001b[0m\u001b[0;34m:\u001b[0m\u001b[0;34m\u001b[0m\u001b[0m\n\u001b[0;32m--> 451\u001b[0;31m                 \u001b[0;32mraise\u001b[0m \u001b[0mException\u001b[0m\u001b[0;34m(\u001b[0m\u001b[0mdata\u001b[0m\u001b[0;34m[\u001b[0m\u001b[0;34m'error'\u001b[0m\u001b[0;34m]\u001b[0m\u001b[0;34m)\u001b[0m\u001b[0;34m\u001b[0m\u001b[0m\n\u001b[0m\u001b[1;32m    452\u001b[0m             \u001b[0;32mreturn\u001b[0m \u001b[0mdata\u001b[0m\u001b[0;34m\u001b[0m\u001b[0m\n",
      "\u001b[0;31mException\u001b[0m: {'code': 400, 'message': 'Unable to generate token', 'details': ['Unable to generate token for this server']}",
      "\nDuring handling of the above exception, another exception occurred:\n",
      "\u001b[0;31mRequestException\u001b[0m                          Traceback (most recent call last)",
      "\u001b[0;32m<ipython-input-67-4fddac83506a>\u001b[0m in \u001b[0;36m<module>\u001b[0;34m\u001b[0m\n\u001b[1;32m     11\u001b[0m \u001b[0msurveys_to_add\u001b[0m \u001b[0;34m=\u001b[0m \u001b[0;34m[\u001b[0m\u001b[0;34m]\u001b[0m\u001b[0;34m\u001b[0m\u001b[0m\n\u001b[1;32m     12\u001b[0m \u001b[0;32mfor\u001b[0m \u001b[0msurvey\u001b[0m \u001b[0;32min\u001b[0m \u001b[0msurveys\u001b[0m\u001b[0;34m:\u001b[0m\u001b[0;34m\u001b[0m\u001b[0m\n\u001b[0;32m---> 13\u001b[0;31m     \u001b[0mgeometry\u001b[0m \u001b[0;34m=\u001b[0m \u001b[0marcgis\u001b[0m\u001b[0;34m.\u001b[0m\u001b[0mgeometry\u001b[0m\u001b[0;34m.\u001b[0m\u001b[0mproject\u001b[0m\u001b[0;34m(\u001b[0m\u001b[0;34m[\u001b[0m\u001b[0msurvey\u001b[0m\u001b[0;34m.\u001b[0m\u001b[0mgeometry\u001b[0m\u001b[0;34m]\u001b[0m\u001b[0;34m,\u001b[0m \u001b[0min_sr\u001b[0m\u001b[0;34m=\u001b[0m\u001b[0;36m4326\u001b[0m\u001b[0;34m,\u001b[0m\u001b[0mout_sr\u001b[0m\u001b[0;34m=\u001b[0m\u001b[0;36m3857\u001b[0m\u001b[0;34m)\u001b[0m\u001b[0;34m[\u001b[0m\u001b[0;36m0\u001b[0m\u001b[0;34m]\u001b[0m\u001b[0;34m\u001b[0m\u001b[0m\n\u001b[0m\u001b[1;32m     14\u001b[0m     \u001b[0;32mif\u001b[0m \u001b[0msurvey\u001b[0m\u001b[0;34m.\u001b[0m\u001b[0mattributes\u001b[0m\u001b[0;34m[\u001b[0m\u001b[0;34m\"new_assignment\"\u001b[0m\u001b[0;34m]\u001b[0m \u001b[0;34m==\u001b[0m \u001b[0;34m\"Yes\"\u001b[0m \u001b[0;32mand\u001b[0m \u001b[0;32mnot\u001b[0m \u001b[0many\u001b[0m\u001b[0;34m(\u001b[0m\u001b[0msame_geometry\u001b[0m\u001b[0;34m(\u001b[0m\u001b[0mgeometry\u001b[0m\u001b[0;34m,\u001b[0m \u001b[0massignment\u001b[0m\u001b[0;34m.\u001b[0m\u001b[0mgeometry\u001b[0m\u001b[0;34m)\u001b[0m \u001b[0;32mfor\u001b[0m \u001b[0massignment\u001b[0m \u001b[0;32min\u001b[0m \u001b[0massignments\u001b[0m\u001b[0;34m)\u001b[0m\u001b[0;34m:\u001b[0m\u001b[0;34m\u001b[0m\u001b[0m\n\u001b[1;32m     15\u001b[0m         \u001b[0msurveys_to_add\u001b[0m\u001b[0;34m.\u001b[0m\u001b[0mappend\u001b[0m\u001b[0;34m(\u001b[0m\u001b[0msurvey\u001b[0m\u001b[0;34m)\u001b[0m\u001b[0;34m\u001b[0m\u001b[0m\n",
      "\u001b[0;32m~/anaconda3/envs/workforce-scripts/lib/python3.7/site-packages/arcgis/geometry/functions.py\u001b[0m in \u001b[0;36mproject\u001b[0;34m(geometries, in_sr, out_sr, transformation, transform_forward, gis)\u001b[0m\n\u001b[1;32m    654\u001b[0m     \u001b[0;32mif\u001b[0m \u001b[0mgis\u001b[0m \u001b[0;32mis\u001b[0m \u001b[0;32mNone\u001b[0m\u001b[0;34m:\u001b[0m\u001b[0;34m\u001b[0m\u001b[0m\n\u001b[1;32m    655\u001b[0m         \u001b[0mgis\u001b[0m \u001b[0;34m=\u001b[0m \u001b[0marcgis\u001b[0m\u001b[0;34m.\u001b[0m\u001b[0menv\u001b[0m\u001b[0;34m.\u001b[0m\u001b[0mactive_gis\u001b[0m\u001b[0;34m\u001b[0m\u001b[0m\n\u001b[0;32m--> 656\u001b[0;31m     return gis._tools.geometry.project(\n\u001b[0m\u001b[1;32m    657\u001b[0m         \u001b[0mgeometries\u001b[0m\u001b[0;34m,\u001b[0m\u001b[0;34m\u001b[0m\u001b[0m\n\u001b[1;32m    658\u001b[0m         \u001b[0min_sr\u001b[0m\u001b[0;34m,\u001b[0m\u001b[0;34m\u001b[0m\u001b[0m\n",
      "\u001b[0;32m~/anaconda3/envs/workforce-scripts/lib/python3.7/site-packages/arcgis/_impl/tools.py\u001b[0m in \u001b[0;36mgeometry\u001b[0;34m(self)\u001b[0m\n\u001b[1;32m  11814\u001b[0m             \u001b[0;32melse\u001b[0m\u001b[0;34m:\u001b[0m\u001b[0;34m\u001b[0m\u001b[0m\n\u001b[1;32m  11815\u001b[0m                 \u001b[0msvcurl\u001b[0m \u001b[0;34m=\u001b[0m \u001b[0mself\u001b[0m\u001b[0;34m.\u001b[0m\u001b[0m_gis\u001b[0m\u001b[0;34m.\u001b[0m\u001b[0mproperties\u001b[0m\u001b[0;34m[\u001b[0m\u001b[0;34m'helperServices'\u001b[0m\u001b[0;34m]\u001b[0m\u001b[0;34m[\u001b[0m\u001b[0;34m'geometry'\u001b[0m\u001b[0;34m]\u001b[0m\u001b[0;34m[\u001b[0m\u001b[0;34m'url'\u001b[0m\u001b[0;34m]\u001b[0m\u001b[0;34m\u001b[0m\u001b[0m\n\u001b[0;32m> 11816\u001b[0;31m             \u001b[0mself\u001b[0m\u001b[0;34m.\u001b[0m\u001b[0m_geometry\u001b[0m \u001b[0;34m=\u001b[0m \u001b[0m_GeometryService\u001b[0m\u001b[0;34m(\u001b[0m\u001b[0msvcurl\u001b[0m\u001b[0;34m,\u001b[0m \u001b[0mself\u001b[0m\u001b[0;34m.\u001b[0m\u001b[0m_gis\u001b[0m\u001b[0;34m)\u001b[0m\u001b[0;34m\u001b[0m\u001b[0m\n\u001b[0m\u001b[1;32m  11817\u001b[0m             \u001b[0;32mreturn\u001b[0m \u001b[0mself\u001b[0m\u001b[0;34m.\u001b[0m\u001b[0m_geometry\u001b[0m\u001b[0;34m\u001b[0m\u001b[0m\n\u001b[1;32m  11818\u001b[0m         \u001b[0;32mexcept\u001b[0m \u001b[0mKeyError\u001b[0m\u001b[0;34m:\u001b[0m\u001b[0;34m\u001b[0m\u001b[0m\n",
      "\u001b[0;32m~/anaconda3/envs/workforce-scripts/lib/python3.7/site-packages/arcgis/_impl/tools.py\u001b[0m in \u001b[0;36m__init__\u001b[0;34m(self, url, gis)\u001b[0m\n\u001b[1;32m  10485\u001b[0m \u001b[0;34m\u001b[0m\u001b[0m\n\u001b[1;32m  10486\u001b[0m     \u001b[0;32mdef\u001b[0m \u001b[0m__init__\u001b[0m\u001b[0;34m(\u001b[0m\u001b[0mself\u001b[0m\u001b[0;34m,\u001b[0m \u001b[0murl\u001b[0m\u001b[0;34m,\u001b[0m \u001b[0mgis\u001b[0m\u001b[0;34m=\u001b[0m\u001b[0;32mNone\u001b[0m\u001b[0;34m)\u001b[0m\u001b[0;34m:\u001b[0m\u001b[0;34m\u001b[0m\u001b[0m\n\u001b[0;32m> 10487\u001b[0;31m         \u001b[0msuper\u001b[0m\u001b[0;34m(\u001b[0m\u001b[0m_GeometryService\u001b[0m\u001b[0;34m,\u001b[0m \u001b[0mself\u001b[0m\u001b[0;34m)\u001b[0m\u001b[0;34m.\u001b[0m\u001b[0m__init__\u001b[0m\u001b[0;34m(\u001b[0m\u001b[0murl\u001b[0m\u001b[0;34m,\u001b[0m \u001b[0mgis\u001b[0m\u001b[0;34m)\u001b[0m\u001b[0;34m\u001b[0m\u001b[0m\n\u001b[0m\u001b[1;32m  10488\u001b[0m \u001b[0;34m\u001b[0m\u001b[0m\n\u001b[1;32m  10489\u001b[0m     \u001b[0;34m@\u001b[0m\u001b[0mclassmethod\u001b[0m\u001b[0;34m\u001b[0m\u001b[0m\n",
      "\u001b[0;32m~/anaconda3/envs/workforce-scripts/lib/python3.7/site-packages/arcgis/_impl/tools.py\u001b[0m in \u001b[0;36m__init__\u001b[0;34m(self, url, gis)\u001b[0m\n\u001b[1;32m    269\u001b[0m                         \u001b[0;32melse\u001b[0m\u001b[0;34m:\u001b[0m\u001b[0;34m\u001b[0m\u001b[0m\n\u001b[1;32m    270\u001b[0m                             \u001b[0;32mfrom\u001b[0m \u001b[0mrequests\u001b[0m\u001b[0;34m.\u001b[0m\u001b[0mexceptions\u001b[0m \u001b[0;32mimport\u001b[0m \u001b[0mRequestException\u001b[0m\u001b[0;34m\u001b[0m\u001b[0m\n\u001b[0;32m--> 271\u001b[0;31m                             \u001b[0;32mraise\u001b[0m \u001b[0mRequestException\u001b[0m\u001b[0;34m(\u001b[0m\u001b[0mstr\u001b[0m\u001b[0;34m(\u001b[0m\u001b[0me\u001b[0m\u001b[0;34m)\u001b[0m\u001b[0;34m)\u001b[0m\u001b[0;34m\u001b[0m\u001b[0m\n\u001b[0m\u001b[1;32m    272\u001b[0m                 \u001b[0;32melse\u001b[0m\u001b[0;34m:\u001b[0m\u001b[0;34m\u001b[0m\u001b[0m\n\u001b[1;32m    273\u001b[0m                     \u001b[0mself\u001b[0m\u001b[0;34m.\u001b[0m\u001b[0m_token\u001b[0m \u001b[0;34m=\u001b[0m \u001b[0mself\u001b[0m\u001b[0;34m.\u001b[0m\u001b[0m_con\u001b[0m\u001b[0;34m.\u001b[0m\u001b[0mtoken\u001b[0m\u001b[0;34m\u001b[0m\u001b[0m\n",
      "\u001b[0;31mRequestException\u001b[0m: {'code': 400, 'message': 'Unable to generate token', 'details': ['Unable to generate token for this server']}"
     ]
    }
   ],
   "source": [
    "import math\n",
    "\n",
    "def same_geometry(geometry_1, geometry_2):\n",
    "    if math.isclose(geometry_1[\"x\"], geometry_2[\"x\"], abs_tol=0.001) and math.isclose(geometry_1[\"y\"], geometry_2[\"y\"], abs_tol=0.001):\n",
    "        return True\n",
    "    else:\n",
    "        return False\n",
    "\n",
    "assignments = project.assignments.search()\n",
    "surveys = survey_item.layers[0].query('1=1').features\n",
    "surveys_to_add = []\n",
    "for survey in surveys:\n",
    "    geometry = arcgis.geometry.project([survey.geometry], in_sr=4326,out_sr=3857)[0]\n",
    "    if survey.attributes[\"new_assignment\"] == \"Yes\" and not any(same_geometry(geometry, assignment.geometry) for assignment in assignments):\n",
    "        surveys_to_add.append(survey)\n",
    "        \n",
    "print(\"Surveys to be added as Assignments: \" + str(len(surveys_to_add)))"
   ]
  },
  {
   "cell_type": "markdown",
   "metadata": {},
   "source": [
    "### Create New Assignments and Visualize\n",
    "\n",
    "Let's now add our surveys to the assignments and re-visualize them on a map. The neat thing here is we'll use reverse geocoding to store the location field!"
   ]
  },
  {
   "cell_type": "code",
   "execution_count": 66,
   "metadata": {},
   "outputs": [
    {
     "data": {
      "text/plain": [
       "[]"
      ]
     },
     "execution_count": 66,
     "metadata": {},
     "output_type": "execute_result"
    }
   ],
   "source": [
    "new_assignments = []\n",
    "for survey in surveys_to_add:\n",
    "    new_assignments.append(\n",
    "        workforce.Assignment(\n",
    "            project,\n",
    "            geometry=arcgis.geometry.project([survey.geometry], in_sr=4326,out_sr=3857)[0],\n",
    "            location=reverse_geocode(survey.geometry)[\"address\"][\"Match_addr\"],\n",
    "            description=survey.attributes[\"notes\"],\n",
    "            priority=survey.attributes[\"priority\"],\n",
    "            assignment_type=\"Sidewalk Repair\",\n",
    "            status=\"unassigned\"\n",
    "        )\n",
    "    )\n",
    "project.assignments.batch_add(new_assignments)\n",
    "webmap2 = gis.map(\"Palm Desert\", zoomlevel=10)\n",
    "webmap2.basemap = 'streets-night-vector'\n",
    "webmap2.add_layer(survey_item.layers[0])\n",
    "webmap2"
   ]
  },
  {
   "cell_type": "code",
   "execution_count": null,
   "metadata": {},
   "outputs": [],
   "source": []
  }
 ],
 "metadata": {
  "kernelspec": {
   "display_name": "Python 3",
   "language": "python",
   "name": "python3"
  },
  "language_info": {
   "codemirror_mode": {
    "name": "ipython",
    "version": 3
   },
   "file_extension": ".py",
   "mimetype": "text/x-python",
   "name": "python",
   "nbconvert_exporter": "python",
   "pygments_lexer": "ipython3",
   "version": "3.7.0"
  }
 },
 "nbformat": 4,
 "nbformat_minor": 1
}
