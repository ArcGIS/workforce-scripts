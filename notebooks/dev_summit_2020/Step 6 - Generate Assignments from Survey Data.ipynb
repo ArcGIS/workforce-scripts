{
 "cells": [
  {
   "cell_type": "markdown",
   "metadata": {
    "collapsed": true
   },
   "source": [
    "## Generate Assignments from Survey Data\n",
    "\n",
    "One common app used in integration with Workforce is Survey123. Dispatchers may want to take captured survey data to then drive new assignments - allowing the field worker to have control over what assignments are made. Say a field worker sees a sidewalk repair that needs to be completed, but doesn't have time to accomplish it or the dispatcher access to create an assignment. We can instead have them collect to a survey and then run our Jupyter Notebook to convert those surveys to assignments. "
   ]
  },
  {
   "cell_type": "code",
   "execution_count": 1,
   "metadata": {},
   "outputs": [
    {
     "name": "stderr",
     "output_type": "stream",
     "text": [
      "/Users/nira9586/geosaurus/src/arcgis/features/_data/geodataset/utils.py:15: FutureWarning: The pandas.datetime class is deprecated and will be removed from pandas in a future version. Import from datetime module instead.\n",
      "  pd.datetime,\n"
     ]
    },
    {
     "name": "stdout",
     "output_type": "stream",
     "text": [
      "Enter password: ········\n"
     ]
    },
    {
     "data": {
      "text/plain": [
       "<Project c765482bd0b9479b9104368da54df90d>"
      ]
     },
     "execution_count": 1,
     "metadata": {},
     "output_type": "execute_result"
    }
   ],
   "source": [
    "import arcgis\n",
    "from arcgis.apps import workforce\n",
    "from arcgis.gis import GIS\n",
    "from arcgis.geocoding import reverse_geocode\n",
    "gis = GIS(\"https://arcgis.com\", \"workforce_scripts\")\n",
    "item = gis.content.get(\"c765482bd0b9479b9104368da54df90d\")\n",
    "project = workforce.Project(item)\n",
    "project"
   ]
  },
  {
   "cell_type": "markdown",
   "metadata": {},
   "source": [
    "### Get Survey Data\n",
    "\n",
    "Let's see what surveys have been submitted to the survey \"Sidewalk Repair\" and visualize this data on the map."
   ]
  },
  {
   "cell_type": "code",
   "execution_count": 2,
   "metadata": {},
   "outputs": [
    {
     "name": "stderr",
     "output_type": "stream",
     "text": [
      "/Users/nira9586/geosaurus/src/arcgis/features/layer.py:2044: FutureWarning: The pandas.datetime class is deprecated and will be removed from pandas in a future version. Import from datetime module instead.\n",
      "  \"esriFieldTypeDate\" : pd.datetime,\n"
     ]
    },
    {
     "data": {
      "text/html": [
       "<div>\n",
       "<style scoped>\n",
       "    .dataframe tbody tr th:only-of-type {\n",
       "        vertical-align: middle;\n",
       "    }\n",
       "\n",
       "    .dataframe tbody tr th {\n",
       "        vertical-align: top;\n",
       "    }\n",
       "\n",
       "    .dataframe thead th {\n",
       "        text-align: right;\n",
       "    }\n",
       "</style>\n",
       "<table border=\"1\" class=\"dataframe\">\n",
       "  <thead>\n",
       "    <tr style=\"text-align: right;\">\n",
       "      <th></th>\n",
       "      <th>objectid</th>\n",
       "      <th>globalid</th>\n",
       "      <th>CreationDate</th>\n",
       "      <th>Creator</th>\n",
       "      <th>EditDate</th>\n",
       "      <th>Editor</th>\n",
       "      <th>notes</th>\n",
       "      <th>priority</th>\n",
       "      <th>new_assignment</th>\n",
       "      <th>SHAPE</th>\n",
       "    </tr>\n",
       "  </thead>\n",
       "  <tbody>\n",
       "    <tr>\n",
       "      <th>0</th>\n",
       "      <td>1</td>\n",
       "      <td>00c245a4-3f29-4261-8613-ecdd30d92d1a</td>\n",
       "      <td>2020-02-21 16:26:13.954</td>\n",
       "      <td>workforce_scripts</td>\n",
       "      <td>2020-02-21 16:31:32.858</td>\n",
       "      <td>workforce_scripts</td>\n",
       "      <td>Asphalt</td>\n",
       "      <td>Low</td>\n",
       "      <td>Yes</td>\n",
       "      <td>{\"x\": -116.39117449518953, \"y\": 33.72203070875...</td>\n",
       "    </tr>\n",
       "    <tr>\n",
       "      <th>1</th>\n",
       "      <td>2</td>\n",
       "      <td>ffb9205c-5039-46be-9f76-00980fedefb8</td>\n",
       "      <td>2020-02-21 16:26:52.822</td>\n",
       "      <td>workforce_scripts</td>\n",
       "      <td>2020-02-21 16:31:44.516</td>\n",
       "      <td>workforce_scripts</td>\n",
       "      <td>Gravel</td>\n",
       "      <td>Low</td>\n",
       "      <td>No</td>\n",
       "      <td>{\"x\": -116.24400582236498, \"y\": 33.76597659571...</td>\n",
       "    </tr>\n",
       "    <tr>\n",
       "      <th>2</th>\n",
       "      <td>3</td>\n",
       "      <td>44812945-84d7-47e4-b037-40cd9c8daa6d</td>\n",
       "      <td>2020-02-21 16:28:07.827</td>\n",
       "      <td>workforce_scripts</td>\n",
       "      <td>2020-02-21 16:31:42.583</td>\n",
       "      <td>workforce_scripts</td>\n",
       "      <td>Concrete</td>\n",
       "      <td>Critical</td>\n",
       "      <td>Yes</td>\n",
       "      <td>{\"x\": -116.28632035178384, \"y\": 33.72907951333...</td>\n",
       "    </tr>\n",
       "  </tbody>\n",
       "</table>\n",
       "</div>"
      ],
      "text/plain": [
       "   objectid                              globalid            CreationDate  \\\n",
       "0         1  00c245a4-3f29-4261-8613-ecdd30d92d1a 2020-02-21 16:26:13.954   \n",
       "1         2  ffb9205c-5039-46be-9f76-00980fedefb8 2020-02-21 16:26:52.822   \n",
       "2         3  44812945-84d7-47e4-b037-40cd9c8daa6d 2020-02-21 16:28:07.827   \n",
       "\n",
       "             Creator                EditDate             Editor     notes  \\\n",
       "0  workforce_scripts 2020-02-21 16:31:32.858  workforce_scripts   Asphalt   \n",
       "1  workforce_scripts 2020-02-21 16:31:44.516  workforce_scripts    Gravel   \n",
       "2  workforce_scripts 2020-02-21 16:31:42.583  workforce_scripts  Concrete   \n",
       "\n",
       "   priority new_assignment                                              SHAPE  \n",
       "0       Low            Yes  {\"x\": -116.39117449518953, \"y\": 33.72203070875...  \n",
       "1       Low             No  {\"x\": -116.24400582236498, \"y\": 33.76597659571...  \n",
       "2  Critical            Yes  {\"x\": -116.28632035178384, \"y\": 33.72907951333...  "
      ]
     },
     "execution_count": 2,
     "metadata": {},
     "output_type": "execute_result"
    }
   ],
   "source": [
    "survey_item = gis.content.get(\"9e97878a0d344408a5f2357d3e51aad4\")\n",
    "df = survey_item.layers[0].query('1=1',as_df=True)\n",
    "df"
   ]
  },
  {
   "cell_type": "code",
   "execution_count": 3,
   "metadata": {},
   "outputs": [
    {
     "data": {
      "application/vnd.jupyter.widget-view+json": {
       "model_id": "53cec8c2bad54201b6a88ecd54809d33",
       "version_major": 2,
       "version_minor": 0
      },
      "text/plain": [
       "MapView(layout=Layout(height='400px', width='100%'), zoom=11.0)"
      ]
     },
     "metadata": {},
     "output_type": "display_data"
    },
    {
     "data": {
      "text/html": [
       "<div class=\"map-static-img-preview-3762665e-906b-46d6-b803-6eb89006b1f9\"><img src=\"\"></img></div>"
      ],
      "text/plain": [
       "<IPython.core.display.HTML object>"
      ]
     },
     "metadata": {},
     "output_type": "display_data"
    }
   ],
   "source": [
    "# Visualize on map\n",
    "\n",
    "webmap = gis.map(\"Palm Desert\", zoomlevel=11)\n",
    "webmap.basemap = 'streets-night-vector'\n",
    "webmap.add_layer(survey_item.layers[0])\n",
    "webmap"
   ]
  },
  {
   "cell_type": "markdown",
   "metadata": {},
   "source": [
    "### Get Surveys which should become new assignments\n",
    "\n",
    "Now, let's take all the surveys which have \"new_assignment\" equal to Yes and create a corresponding assignment. We'll also need to ensure that we're not creating a duplicate - we'll do this by performing a check on the geometry of the assignments.\n"
   ]
  },
  {
   "cell_type": "code",
   "execution_count": 4,
   "metadata": {},
   "outputs": [
    {
     "name": "stdout",
     "output_type": "stream",
     "text": [
      "Surveys to be added as Assignments: 2\n"
     ]
    }
   ],
   "source": [
    "import math\n",
    "\n",
    "def same_geometry(geometry_1, geometry_2):\n",
    "    if math.isclose(geometry_1[\"x\"], geometry_2[\"x\"], abs_tol=0.001) and math.isclose(geometry_1[\"y\"], geometry_2[\"y\"], abs_tol=0.001):\n",
    "        return True\n",
    "    else:\n",
    "        return False\n",
    "\n",
    "assignments = project.assignments.search()\n",
    "surveys = survey_item.layers[0].query('1=1').features\n",
    "surveys_to_add = []\n",
    "for survey in surveys:\n",
    "    geometry = arcgis.geometry.project([survey.geometry], in_sr=4326,out_sr=3857)[0]\n",
    "    if survey.attributes[\"new_assignment\"] == \"Yes\" and not any(same_geometry(geometry, assignment.geometry) for assignment in assignments):\n",
    "        surveys_to_add.append(survey)\n",
    "        \n",
    "print(\"Surveys to be added as Assignments: \" + str(len(surveys_to_add)))"
   ]
  },
  {
   "cell_type": "markdown",
   "metadata": {},
   "source": [
    "### Create New Assignments and Visualize\n",
    "\n",
    "Let's now add our surveys to the assignments and re-visualize them on a map. The neat thing here is we'll use reverse geocoding to store the location field!"
   ]
  },
  {
   "cell_type": "code",
   "execution_count": 6,
   "metadata": {},
   "outputs": [
    {
     "data": {
      "application/vnd.jupyter.widget-view+json": {
       "model_id": "8740fc8cd7ef49968cd4089edcc10970",
       "version_major": 2,
       "version_minor": 0
      },
      "text/plain": [
       "MapView(layout=Layout(height='400px', width='100%'), zoom=10.0)"
      ]
     },
     "metadata": {},
     "output_type": "display_data"
    },
    {
     "data": {
      "text/html": [
       "<div class=\"map-static-img-preview-f2a645dd-629c-4a73-8ba3-852a84879d3a\"><img src=\"\"></img></div>"
      ],
      "text/plain": [
       "<IPython.core.display.HTML object>"
      ]
     },
     "metadata": {},
     "output_type": "display_data"
    }
   ],
   "source": [
    "new_assignments = []\n",
    "for survey in surveys_to_add:\n",
    "    new_assignments.append(\n",
    "        workforce.Assignment(\n",
    "            project,\n",
    "            geometry=arcgis.geometry.project([survey.geometry], in_sr=4326,out_sr=3857)[0],\n",
    "            location=reverse_geocode(survey.geometry)[\"address\"][\"Match_addr\"],\n",
    "            notes=survey.attributes[\"notes\"],\n",
    "            priority=survey.attributes[\"priority\"],\n",
    "            assignment_type=\"Sidewalk Repair\",\n",
    "            status=\"unassigned\"\n",
    "        )\n",
    "    )\n",
    "project.assignments.batch_add(new_assignments)\n",
    "webmap2 = gis.map(\"Palm Desert\", zoomlevel=10)\n",
    "webmap2.basemap = 'streets-night-vector'\n",
    "webmap2.add_layer(project.assignments_item)\n",
    "webmap2"
   ]
  },
  {
   "cell_type": "markdown",
   "metadata": {},
   "source": [
    "### Create a Scheduled Task\n",
    "\n",
    "You probably wouldn't want to be running this Notebook every time you need surveys turned into assignments; you should instead create a scheduled tasks that runs at a certain frequency on a computer. You could extract the Python code out of this notebook and follow the instructions at: https://www.esri.com/arcgis-blog/products/product/analytics/scheduling-a-python-script-or-model-to-run-at-a-prescribed-time/"
   ]
  },
  {
   "cell_type": "code",
   "execution_count": null,
   "metadata": {},
   "outputs": [],
   "source": []
  }
 ],
 "metadata": {
  "kernelspec": {
   "display_name": "Python 3",
   "language": "python",
   "name": "python3"
  },
  "language_info": {
   "codemirror_mode": {
    "name": "ipython",
    "version": 3
   },
   "file_extension": ".py",
   "mimetype": "text/x-python",
   "name": "python",
   "nbconvert_exporter": "python",
   "pygments_lexer": "ipython3",
   "version": "3.7.0"
  }
 },
 "nbformat": 4,
 "nbformat_minor": 1
}
