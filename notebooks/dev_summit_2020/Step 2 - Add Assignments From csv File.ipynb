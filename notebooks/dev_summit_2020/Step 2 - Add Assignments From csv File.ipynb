{
 "cells": [
  {
   "cell_type": "markdown",
   "metadata": {},
   "source": [
    "# Import Assignments From a CSV File¶\n",
    "In this example, a CSV file containing the locations of potholes will be imported into a Workforce Project as new assignments."
   ]
  },
  {
   "cell_type": "markdown",
   "metadata": {},
   "source": [
    "### Import ArcGIS API for Python\n",
    "Import the `arcgis` library and some modules within it."
   ]
  },
  {
   "cell_type": "code",
   "execution_count": 1,
   "metadata": {},
   "outputs": [
    {
     "name": "stderr",
     "output_type": "stream",
     "text": [
      "/Users/nira9586/anaconda3/envs/workforce-scripts/lib/python3.7/site-packages/arcgis/features/_data/geodataset/utils.py:15: FutureWarning: The pandas.datetime class is deprecated and will be removed from pandas in a future version. Import from datetime module instead.\n",
      "  pd.datetime,\n"
     ]
    }
   ],
   "source": [
    "import pandas as pd\n",
    "from arcgis.gis import GIS\n",
    "from arcgis.apps import workforce\n",
    "from arcgis.geocoding import geocode"
   ]
  },
  {
   "cell_type": "markdown",
   "metadata": {},
   "source": [
    "\n",
    "### Connect to Organization And Get The Project\n",
    "Let's connect to ArcGIS Online and find the new Project to add assignments to."
   ]
  },
  {
   "cell_type": "code",
   "execution_count": 2,
   "metadata": {},
   "outputs": [
    {
     "name": "stdout",
     "output_type": "stream",
     "text": [
      "Enter password: ········\n"
     ]
    }
   ],
   "source": [
    "gis = GIS(\"https://arcgis.com\", \"workforce_scripts\")\n",
    "item = gis.content.get(\"c765482bd0b9479b9104368da54df90d\")\n",
    "project = workforce.Project(item)"
   ]
  },
  {
   "cell_type": "markdown",
   "metadata": {},
   "source": [
    "\n",
    "### Load the CSV File¶\n",
    "Let's use the pandas library to read the CSV file and display the potholes."
   ]
  },
  {
   "cell_type": "code",
   "execution_count": 3,
   "metadata": {
    "scrolled": true
   },
   "outputs": [
    {
     "data": {
      "text/html": [
       "<div>\n",
       "<style scoped>\n",
       "    .dataframe tbody tr th:only-of-type {\n",
       "        vertical-align: middle;\n",
       "    }\n",
       "\n",
       "    .dataframe tbody tr th {\n",
       "        vertical-align: top;\n",
       "    }\n",
       "\n",
       "    .dataframe thead th {\n",
       "        text-align: right;\n",
       "    }\n",
       "</style>\n",
       "<table border=\"1\" class=\"dataframe\">\n",
       "  <thead>\n",
       "    <tr style=\"text-align: right;\">\n",
       "      <th></th>\n",
       "      <th>Location</th>\n",
       "      <th>Description</th>\n",
       "      <th>Priority</th>\n",
       "      <th>Work Order Id</th>\n",
       "      <th>Due Date</th>\n",
       "    </tr>\n",
       "  </thead>\n",
       "  <tbody>\n",
       "    <tr>\n",
       "      <th>0</th>\n",
       "      <td>480 E Tahquitz Canyon Way Palm Springs</td>\n",
       "      <td>Fill in the pothole</td>\n",
       "      <td>high</td>\n",
       "      <td>1</td>\n",
       "      <td>3/13/2019 22:43:00</td>\n",
       "    </tr>\n",
       "    <tr>\n",
       "      <th>1</th>\n",
       "      <td>456 E Andreas Rd Palm Springs</td>\n",
       "      <td>Fill in the pothole</td>\n",
       "      <td>medium</td>\n",
       "      <td>2</td>\n",
       "      <td>3/13/2019 21:43:05</td>\n",
       "    </tr>\n",
       "    <tr>\n",
       "      <th>2</th>\n",
       "      <td>200 E Arenas Rd Palm Springs</td>\n",
       "      <td>Fill in the pothole</td>\n",
       "      <td>low</td>\n",
       "      <td>3</td>\n",
       "      <td>3/13/2019 19:43:09</td>\n",
       "    </tr>\n",
       "    <tr>\n",
       "      <th>3</th>\n",
       "      <td>Skyline Trailhead Palm Springs</td>\n",
       "      <td>Fill in the pothole</td>\n",
       "      <td>critical</td>\n",
       "      <td>4</td>\n",
       "      <td>3/14/2019 10:43:00</td>\n",
       "    </tr>\n",
       "    <tr>\n",
       "      <th>4</th>\n",
       "      <td>Ruth Hardy Park Palm Springs</td>\n",
       "      <td>Fill in the pothole</td>\n",
       "      <td>high</td>\n",
       "      <td>5</td>\n",
       "      <td>3/14/2019 18:43:09</td>\n",
       "    </tr>\n",
       "    <tr>\n",
       "      <th>5</th>\n",
       "      <td>196 N Sunrise Way Palm Springs</td>\n",
       "      <td>Fill in the pothole</td>\n",
       "      <td>low</td>\n",
       "      <td>6</td>\n",
       "      <td>3/15/2019 14:00:00</td>\n",
       "    </tr>\n",
       "  </tbody>\n",
       "</table>\n",
       "</div>"
      ],
      "text/plain": [
       "                                 Location          Description  Priority  \\\n",
       "0  480 E Tahquitz Canyon Way Palm Springs  Fill in the pothole      high   \n",
       "1           456 E Andreas Rd Palm Springs  Fill in the pothole    medium   \n",
       "2            200 E Arenas Rd Palm Springs  Fill in the pothole       low   \n",
       "3          Skyline Trailhead Palm Springs  Fill in the pothole  critical   \n",
       "4            Ruth Hardy Park Palm Springs  Fill in the pothole      high   \n",
       "5          196 N Sunrise Way Palm Springs  Fill in the pothole       low   \n",
       "\n",
       "   Work Order Id            Due Date  \n",
       "0              1  3/13/2019 22:43:00  \n",
       "1              2  3/13/2019 21:43:05  \n",
       "2              3  3/13/2019 19:43:09  \n",
       "3              4  3/14/2019 10:43:00  \n",
       "4              5  3/14/2019 18:43:09  \n",
       "5              6  3/15/2019 14:00:00  "
      ]
     },
     "execution_count": 3,
     "metadata": {},
     "output_type": "execute_result"
    }
   ],
   "source": [
    "df = pd.read_csv(\"assignments.csv\")\n",
    "df"
   ]
  },
  {
   "cell_type": "markdown",
   "metadata": {},
   "source": [
    "### Create An Assignment For Each Row\n",
    "For each assignment, First geocode the address to get the x,y location in (WGS84 Web Mercator) of the assignment. Then supply additional attributes.\n",
    "\n",
    "Finally use the batch_add method to add multiple assignments at once (this is faster than using the add method since validation is performed once for all assignments)."
   ]
  },
  {
   "cell_type": "code",
   "execution_count": 4,
   "metadata": {},
   "outputs": [
    {
     "data": {
      "text/plain": [
       "[<Assignment 122>,\n",
       " <Assignment 123>,\n",
       " <Assignment 124>,\n",
       " <Assignment 125>,\n",
       " <Assignment 126>,\n",
       " <Assignment 127>]"
      ]
     },
     "execution_count": 4,
     "metadata": {},
     "output_type": "execute_result"
    }
   ],
   "source": [
    "assignments = []\n",
    "for index, row in df.iterrows():\n",
    "    geometry = geocode(f\"{row['Location']}\", out_sr=3857)[0][\"location\"]\n",
    "    assignments.append(\n",
    "        workforce.Assignment(\n",
    "            project,\n",
    "            geometry=geometry,\n",
    "            location=row[\"Location\"],\n",
    "            description=row[\"Description\"],\n",
    "            priority=row[\"Priority\"],\n",
    "            work_order_id=row[\"Work Order Id\"],\n",
    "            assignment_type=\"Fill in Pothole\",\n",
    "            status=\"unassigned\"\n",
    "        )\n",
    "    )\n",
    "project.assignments.batch_add(assignments)"
   ]
  },
  {
   "cell_type": "markdown",
   "metadata": {},
   "source": [
    "\n",
    "### Verify the assignments on the map\n",
    "Let's verify that the assignments were created."
   ]
  },
  {
   "cell_type": "code",
   "execution_count": 5,
   "metadata": {},
   "outputs": [
    {
     "data": {
      "application/vnd.jupyter.widget-view+json": {
       "model_id": "a39bf6a409254dd98e36cf84afac83c3",
       "version_major": 2,
       "version_minor": 0
      },
      "text/plain": [
       "MapView(layout=Layout(height='400px', width='100%'), zoom=14.0)"
      ]
     },
     "metadata": {},
     "output_type": "display_data"
    },
    {
     "data": {
      "text/html": [
       "<div class=\"map-static-img-preview-8f4352eb-21d2-46fd-9423-ff557a0ffc62\"><img src=\"\"></img></div>"
      ],
      "text/plain": [
       "<IPython.core.display.HTML object>"
      ]
     },
     "metadata": {},
     "output_type": "display_data"
    }
   ],
   "source": [
    "webmap = gis.map(\"Palm Springs\", zoomlevel=14)\n",
    "webmap.add_layer(project.assignments_layer)\n",
    "webmap"
   ]
  }
 ],
 "metadata": {
  "kernelspec": {
   "display_name": "Python 3",
   "language": "python",
   "name": "python3"
  },
  "language_info": {
   "codemirror_mode": {
    "name": "ipython",
    "version": 3
   },
   "file_extension": ".py",
   "mimetype": "text/x-python",
   "name": "python",
   "nbconvert_exporter": "python",
   "pygments_lexer": "ipython3",
   "version": "3.7.0"
  }
 },
 "nbformat": 4,
 "nbformat_minor": 2
}
