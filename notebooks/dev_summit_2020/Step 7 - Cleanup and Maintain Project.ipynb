{
 "cells": [
  {
   "cell_type": "markdown",
   "metadata": {
    "collapsed": true
   },
   "source": [
    "## Project Cleanup and Maintenance\n",
    "\n",
    "One of the best ways to utilize the Python API Workforce module is for cleanup and maintenance tasks. We'll review some of those here, which are featured in the \"scripts\" portion of our Github repo."
   ]
  },
  {
   "cell_type": "code",
   "execution_count": null,
   "metadata": {},
   "outputs": [],
   "source": [
    "import arcgis\n",
    "from arcgis.apps import workforce\n",
    "from arcgis.gis import GIS\n",
    "import datetime\n",
    "import pendulum\n",
    "import csv\n",
    "gis = GIS(\"https://arcgis.com\", \"workforce_scripts\")\n",
    "item = gis.content.get(\"c765482bd0b9479b9104368da54df90d\")\n",
    "project = workforce.Project(item)\n",
    "project"
   ]
  },
  {
   "cell_type": "markdown",
   "metadata": {},
   "source": [
    "### Export assignments out to CSV\n",
    "\n",
    "If you need to keep an archive of assignment data outside of the ArcGIS platform, exporting your assignments to a csv is a great solution!"
   ]
  },
  {
   "cell_type": "code",
   "execution_count": null,
   "metadata": {},
   "outputs": [],
   "source": [
    "assignments = project.assignments.search(where=\"1=1\")\n",
    "assignments_to_export = []\n",
    "# Take the assignment data, format it correctly if necessary, and assign it to the dict\n",
    "for assignment in assignments:\n",
    "    assignment_to_export = {}\n",
    "    assignment_to_export[\"X\"] = assignment.geometry[\"x\"]\n",
    "    assignment_to_export[\"Y\"] = assignment.geometry[\"y\"]\n",
    "    assignment_to_export[\"DispatcherId\"] = assignment.dispatcher_id\n",
    "    assignment_to_export[\"WorkOrderId\"] = assignment.work_order_id\n",
    "    assignment_to_export[\"Status\"] = assignment.status\n",
    "    assignment_to_export[\"Description\"] = assignment.description\n",
    "    assignment_to_export[\"Notes\"] = assignment.notes\n",
    "    assignment_to_export[\"Priority\"] = assignment.priority\n",
    "    assignment_to_export[\"AssignmentType\"] = assignment.assignment_type.name\n",
    "    assignment_to_export[\"WorkerId\"] = assignment.worker_id\n",
    "    assignment_to_export[\"GlobalID\"] = assignment.global_id\n",
    "    assignment_to_export[\"Location\"] = assignment.location\n",
    "    assignment_to_export[\"Creator\"] = assignment.creator\n",
    "    assignment_to_export[\"Editor\"] = assignment.editor\n",
    "    assignment_to_export[\"DeclinedComment\"] = assignment.declined_comment\n",
    "    assignment_to_export[\"OBJECTID\"] = assignment.object_id\n",
    "    assignment_to_export[\"AssignmentRead\"] = assignment.assignment_read\n",
    "    # Append each field to the assignments to be exported\n",
    "    assignments_to_export.append(assignment_to_export)\n",
    "print(\"writing to csv\")\n",
    "# Create the CSV\n",
    "with open(\"./exported.csv\", 'w', newline='', encoding='utf-8') as csv_file:\n",
    "    fieldnames = [\"OBJECTID\",\n",
    "                  \"X\",\n",
    "                  \"Y\",\n",
    "                  \"Description\",\n",
    "                  \"Status\",\n",
    "                  \"Notes\",\n",
    "                  \"Priority\",\n",
    "                  \"AssignmentType\",\n",
    "                  \"WorkOrderId\",\n",
    "                  \"DueDate\",\n",
    "                  \"WorkerId\",\n",
    "                  \"GlobalID\",\n",
    "                  \"Location\",\n",
    "                  \"DeclinedComment\",\n",
    "                  \"AssignedDate\",\n",
    "                  \"AssignmentRead\",\n",
    "                  \"InProgressDate\",\n",
    "                  \"CompletedDate\",\n",
    "                  \"DeclinedDate\",\n",
    "                  \"PausedDate\",\n",
    "                  \"DispatcherId\",\n",
    "                  \"CreationDate\",\n",
    "                  \"Creator\",\n",
    "                  \"EditDate\",\n",
    "                  \"Editor\"]\n",
    "    writer = csv.DictWriter(csv_file, fieldnames=fieldnames)\n",
    "    writer.writeheader()\n",
    "    writer.writerows(assignments_to_export)\n",
    "print(\"Completed\")"
   ]
  },
  {
   "cell_type": "markdown",
   "metadata": {},
   "source": [
    "### Delete Assignments\n",
    "\n",
    "If you've used a project for a while, you might need to delete old assignments that fit a certain criteria. Let's manually decline an assignment here and then"
   ]
  },
  {
   "cell_type": "code",
   "execution_count": null,
   "metadata": {},
   "outputs": [],
   "source": [
    "project.assignments.search()[0].update(status=\"Declined\",declined_date=datetime.datetime.now(), declined_comment=\"not doing it\")\n",
    "print(\"Assignments before Deletion: \" + str(len(project.assignments.search())))\n",
    "project.assignments_item.layers[0].delete_features(where=\"status=4\")\n",
    "print(\"Assignments after Deletion: \" + str(len(project.assignments.search())))"
   ]
  },
  {
   "cell_type": "markdown",
   "metadata": {},
   "source": [
    "### Reset Stale Workers\n",
    "\n",
    "A common task that administrators will need to accomplish is to reset the status of workers to not working. This portion takes workers who have not been edited (changed their location, status, or contact info) at or after a certain date and resets their status to \"not working\" (we have a dedicated script in the repo for this)"
   ]
  },
  {
   "cell_type": "code",
   "execution_count": null,
   "metadata": {},
   "outputs": [],
   "source": [
    "workers = project.workers.search()\n",
    "for worker in workers:\n",
    "    print(worker.name + \" Status: \" + worker.status)\n",
    "\n",
    "local_cutoff_date = pendulum.from_format(\"03/01/2020 12:00:00\", \"MM/DD/YYYY hh:mm:ss\", tz=\"US/Eastern\", formatter='alternative')\n",
    "utc_dt = local_cutoff_date.in_tz('UTC')\n",
    "formatted_date = utc_dt.strftime(\"%Y-%m-%d %H:%M:%S\")\n",
    "\n",
    "print(\"Querying workers\")\n",
    "where = f\"{project._worker_schema.edit_date} < TIMESTAMP '{formatted_date}'\"\n",
    "workers = project.workers.search(where=where)\n",
    "for worker in workers:\n",
    "    worker.status = \"not_working\"\n",
    "    \n",
    "    \n",
    "print(\"Updating workers\")\n",
    "project.workers.batch_update(workers)\n",
    "print(\"Completed!\")\n",
    "workers = project.workers.search()\n",
    "for worker in workers:\n",
    "    print(worker.name + \" Status: \" + worker.status)"
   ]
  },
  {
   "cell_type": "markdown",
   "metadata": {},
   "source": [
    "# The possibilities are endless!"
   ]
  },
  {
   "cell_type": "code",
   "execution_count": null,
   "metadata": {},
   "outputs": [],
   "source": []
  }
 ],
 "metadata": {
  "kernelspec": {
   "display_name": "Python 3",
   "language": "python",
   "name": "python3"
  },
  "language_info": {
   "codemirror_mode": {
    "name": "ipython",
    "version": 3
   },
   "file_extension": ".py",
   "mimetype": "text/x-python",
   "name": "python",
   "nbconvert_exporter": "python",
   "pygments_lexer": "ipython3",
   "version": "3.7.0"
  }
 },
 "nbformat": 4,
 "nbformat_minor": 1
}
