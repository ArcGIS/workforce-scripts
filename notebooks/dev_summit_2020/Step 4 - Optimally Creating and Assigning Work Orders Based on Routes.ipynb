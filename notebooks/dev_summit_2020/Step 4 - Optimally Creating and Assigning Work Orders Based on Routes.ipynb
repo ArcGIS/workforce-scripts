{
 "cells": [
  {
   "cell_type": "markdown",
   "metadata": {},
   "source": [
    "# Optimally Creating and Assigning Work Orders Based on Routes\n",
    "\n",
    "Suppose our organization needs to perform restaurant/brewery inspections in the Greater Portland, Maine area. Let's assume that there are around 25 breweries that need to be inspected and that there are 5 workers that are available to do the inspections. As the supervisor of these workers I'm going to develop a Python Script (well, Jupyter Notebook in this case) that will optimally create distinct routes for my workers, create assignments at the brewery locations, and then assign the assignment to the correct worker."
   ]
  },
  {
   "cell_type": "markdown",
   "metadata": {},
   "source": [
    "### Import ArcGIS API for Python\n",
    "Let's import some libraries and connect to our organization"
   ]
  },
  {
   "cell_type": "code",
   "execution_count": null,
   "metadata": {},
   "outputs": [],
   "source": [
    "import pandas as pd\n",
    "import arcgis\n",
    "from arcgis.gis import GIS\n",
    "from arcgis.apps import workforce\n",
    "pd.options.display.max_columns = None\n",
    "\n",
    "gis = GIS(\"https://arcgis.com\", \"workforce_scripts\")\n",
    "project = workforce.Project(gis.content.search(\"type:'Workforce Project' Maine Brewery Inspections\")[0])\n",
    "project.assignments_item.layers[0].delete_features(where=\"1=1\")"
   ]
  },
  {
   "cell_type": "markdown",
   "metadata": {},
   "source": [
    "### View the breweries that need to be inspected"
   ]
  },
  {
   "cell_type": "code",
   "execution_count": null,
   "metadata": {},
   "outputs": [],
   "source": [
    "breweries = gis.content.search(\"type:'Feature Service' owner:workforce_scripts Maine Breweries\")[0].layers[0]\n",
    "breweries.filter = \"location in ('Portland','South Portland','Gorham','Biddeford','Scarborough', 'Topsham','Freeport')\"\n",
    "webmap = gis.map(\"Portland, ME\", zoomlevel=10)\n",
    "webmap.add_layer(breweries)\n",
    "webmap"
   ]
  },
  {
   "cell_type": "code",
   "execution_count": null,
   "metadata": {},
   "outputs": [],
   "source": [
    "breweries_df = breweries.query(where=breweries.filter, out_fields=\"objectid,name,location,url\", as_df=True)\n",
    "breweries_df"
   ]
  },
  {
   "cell_type": "markdown",
   "metadata": {},
   "source": [
    "### Create a route for each worker\n",
    "\n",
    "Now that we know what we're working with, let's use the Plan Routes tool to generate the most optimal routes for each of the workers. First we need to define where the workers will start their routes. Each worker will begin from the main office located at 100 Commercial Street, Portland Maine. We'll use the geocoding module to get an exact location for this address."
   ]
  },
  {
   "cell_type": "code",
   "execution_count": null,
   "metadata": {},
   "outputs": [],
   "source": [
    "from arcgis.geocoding import geocode\n",
    "start_location = geocode(\"100 Commercial Street, Portland, ME\", out_sr={\"wkid\": 102100})[0][\"location\"]\n",
    "start_location[\"spatialReference\"] = {\"wkid\": 102100}\n",
    "start_location"
   ]
  },
  {
   "cell_type": "markdown",
   "metadata": {},
   "source": [
    "Next we need to create a feature at this location"
   ]
  },
  {
   "cell_type": "code",
   "execution_count": null,
   "metadata": {},
   "outputs": [],
   "source": [
    "feature = arcgis.features.Feature(\n",
    "    attributes={\n",
    "        \"ObjectID\": 1,\n",
    "        \"Name\": \"Office\"\n",
    "    },\n",
    "    geometry=start_location\n",
    ")"
   ]
  },
  {
   "cell_type": "markdown",
   "metadata": {},
   "source": [
    "Next, we'll create a Feature Set from the feature. Then we'll create a Feature Collection from the Feature Set. Finally, we'll format the layer so that it conforms to the expected input format defined [here](https://doc.arcgis.com/en/arcgis-online/analyze/plan-routes.htm)."
   ]
  },
  {
   "cell_type": "code",
   "execution_count": null,
   "metadata": {},
   "outputs": [],
   "source": [
    "feature_set = arcgis.features.FeatureSet([feature])\n",
    "feature_collection = arcgis.features.FeatureCollection.from_featureset(feature_set)\n",
    "start_layer = {\"layerDefinition\": feature_collection.properties[\"layers\"][0][\"layerDefinition\"], \"featureSet\": feature_set.value}"
   ]
  },
  {
   "cell_type": "markdown",
   "metadata": {},
   "source": [
    "Then we'll run the Plan Routes tool using the breweries layer as list of stops to route to. We'll set the number of routes equal to the number of workers. We'll also set the start time and start location as well as few other parameters."
   ]
  },
  {
   "cell_type": "code",
   "execution_count": null,
   "metadata": {},
   "outputs": [],
   "source": [
    "from datetime import datetime\n",
    "workers = project.workers.search()\n",
    "results = arcgis.features.analysis.plan_routes(breweries,       # Feature Layer of Stops\n",
    "                                    len(workers),               # Number of routes to generate\n",
    "                                    5,                          # Maximum stops per route\n",
    "                                    datetime.now(),             # Start time of route\n",
    "                                    start_layer,                # The dictionary we created to represent the start location\n",
    "                                    stop_service_time=60,       # How much time in minutes to spend at each stop\n",
    "                                    max_route_time=480,         # The maximum time for the worker to complete the route\n",
    "                                    )\n",
    "results"
   ]
  },
  {
   "cell_type": "markdown",
   "metadata": {},
   "source": [
    "Let's see what the routes look like"
   ]
  },
  {
   "cell_type": "code",
   "execution_count": null,
   "metadata": {},
   "outputs": [],
   "source": [
    "webmap = gis.map(\"Portland, ME\", zoomlevel=10)\n",
    "webmap.add_layer(results[\"routes_layer\"])\n",
    "webmap.add_layer(results[\"assigned_stops_layer\"])\n",
    "webmap"
   ]
  },
  {
   "cell_type": "markdown",
   "metadata": {},
   "source": [
    "Let's look at what data is in route"
   ]
  },
  {
   "cell_type": "code",
   "execution_count": null,
   "metadata": {},
   "outputs": [],
   "source": [
    "routes = results['routes_layer'].query().sdf\n",
    "routes"
   ]
  },
  {
   "cell_type": "markdown",
   "metadata": {},
   "source": [
    "You can see that each route has a name, total time, and total distance among other things. Let's see what information is provided in an assigned stop."
   ]
  },
  {
   "cell_type": "code",
   "execution_count": null,
   "metadata": {},
   "outputs": [],
   "source": [
    "stops = results['assigned_stops_layer'].query().sdf\n",
    "stops"
   ]
  },
  {
   "cell_type": "markdown",
   "metadata": {},
   "source": [
    "You can see each row in the above table contains the attributes of each Brewery along with information about which route it is on. You'll also notice that there are several additional stops not related to a brewery. These are the starting and ending locations of each route."
   ]
  },
  {
   "cell_type": "markdown",
   "metadata": {},
   "source": [
    "### Create Assignment and Assign To Worker\n",
    "\n",
    "For each route that was generated we will select a random worker to complete that route. Then we'll find the breweries that were assigned to that route and create an Inspection Assignment for each one. Notice that when the assignment is created we are also assigning it to a worker.\n",
    "\n",
    "An important thing to note is that we are setting the due date of the assignment to the departure date of the stop. This means that a mobile worker will be able to sort their \"To Do\" list by due date and see the assignments in the correct order (according to the route)."
   ]
  },
  {
   "cell_type": "code",
   "execution_count": null,
   "metadata": {},
   "outputs": [],
   "source": [
    "import random\n",
    "\n",
    "assignments_to_add = []\n",
    "for _, row in routes.iterrows():\n",
    "    worker = random.choice(workers)\n",
    "    workers.remove(worker)\n",
    "    route_stops = stops.loc[(stops['RouteName'] == row[\"RouteName\"]) & stops['globalid'].notnull()]\n",
    "    for _, stop in route_stops.iterrows():\n",
    "        assignments_to_add.append(workforce.Assignment(\n",
    "            project,\n",
    "            assignment_type=\"Inspection\",\n",
    "            location=stop[\"name\"],\n",
    "            status=\"assigned\",\n",
    "            worker=worker,\n",
    "            assigned_date=datetime.now(),\n",
    "            due_date=stop[\"DepartTime\"],\n",
    "            geometry=stop[\"SHAPE\"]\n",
    "        ))\n",
    "assignments = project.assignments.batch_add(assignments_to_add)"
   ]
  },
  {
   "cell_type": "markdown",
   "metadata": {},
   "source": [
    "Let's check to verify the assignments were created and are assigned"
   ]
  },
  {
   "cell_type": "code",
   "execution_count": null,
   "metadata": {},
   "outputs": [],
   "source": [
    "webmap.add_layer(project.assignments_layer)\n",
    "webmap"
   ]
  }
 ],
 "metadata": {
  "kernelspec": {
   "display_name": "Python 3",
   "language": "python",
   "name": "python3"
  },
  "language_info": {
   "codemirror_mode": {
    "name": "ipython",
    "version": 3
   },
   "file_extension": ".py",
   "mimetype": "text/x-python",
   "name": "python",
   "nbconvert_exporter": "python",
   "pygments_lexer": "ipython3",
   "version": "3.7.0"
  }
 },
 "nbformat": 4,
 "nbformat_minor": 2
}
