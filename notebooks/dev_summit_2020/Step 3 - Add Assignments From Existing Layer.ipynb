{
 "cells": [
  {
   "cell_type": "markdown",
   "metadata": {},
   "source": [
    "# Add Assignments From an Existing Layer¶\n",
    "In this example, features in an existing layer on ArcGIS Online, representing crosswalks that need to be painted, will be imported into a Workforce Project as assignments."
   ]
  },
  {
   "cell_type": "markdown",
   "metadata": {},
   "source": [
    "### Import ArcGIS API for Python\n",
    "Import the `arcgis` library and some modules within it."
   ]
  },
  {
   "cell_type": "code",
   "execution_count": 1,
   "metadata": {},
   "outputs": [
    {
     "name": "stderr",
     "output_type": "stream",
     "text": [
      "/Users/nira9586/anaconda3/envs/workforce-scripts/lib/python3.7/site-packages/arcgis/features/_data/geodataset/utils.py:15: FutureWarning: The pandas.datetime class is deprecated and will be removed from pandas in a future version. Import from datetime module instead.\n",
      "  pd.datetime,\n"
     ]
    }
   ],
   "source": [
    "from datetime import datetime\n",
    "import pandas as pd\n",
    "from arcgis.gis import GIS\n",
    "from arcgis.apps import workforce"
   ]
  },
  {
   "cell_type": "markdown",
   "metadata": {},
   "source": [
    "### Connect to Organization and get the Project¶\n",
    "Let's connect to ArcGIS Online and find the new Project to add assignments to."
   ]
  },
  {
   "cell_type": "code",
   "execution_count": 2,
   "metadata": {},
   "outputs": [
    {
     "name": "stdout",
     "output_type": "stream",
     "text": [
      "Enter password: ········\n"
     ]
    }
   ],
   "source": [
    "gis = GIS(\"https://arcgis.com\", \"workforce_scripts\")\n",
    "item = gis.content.get(\"c765482bd0b9479b9104368da54df90d\")\n",
    "project = workforce.Project(item)"
   ]
  },
  {
   "cell_type": "markdown",
   "metadata": {},
   "source": [
    "### Query the Feature Layer to Find Crosswalks That Need to be Painted¶\n",
    "Let's fetch the layer containing the crosswalks, query all of the crosswalks, and then display the crosswalks on a map. Workforce stores assignments in WGS84 Web Mercator so let's ensure that the returned geometries are using that spatial reference."
   ]
  },
  {
   "cell_type": "code",
   "execution_count": 3,
   "metadata": {},
   "outputs": [],
   "source": [
    "layer = gis.content.get(\"b96e5dc5b54c45f4a3fc00d6622821b9\").layers[0]\n",
    "crosswalks = layer.query(\"1=1\", out_sr=3857).features"
   ]
  },
  {
   "cell_type": "code",
   "execution_count": 4,
   "metadata": {},
   "outputs": [
    {
     "data": {
      "application/vnd.jupyter.widget-view+json": {
       "model_id": "d8fcdaacd28242fdbd9046817badce50",
       "version_major": 2,
       "version_minor": 0
      },
      "text/plain": [
       "MapView(layout=Layout(height='400px', width='100%'), zoom=12.0)"
      ]
     },
     "metadata": {},
     "output_type": "display_data"
    },
    {
     "data": {
      "text/html": [
       "<div class=\"map-static-img-preview-6434b949-94e0-48c9-836d-40db0a66c91b\"><img src=\"\"></img></div>"
      ],
      "text/plain": [
       "<IPython.core.display.HTML object>"
      ]
     },
     "metadata": {},
     "output_type": "display_data"
    }
   ],
   "source": [
    "crosswalk_map = gis.map(\"Palm Springs, CA\", zoomlevel=12)\n",
    "crosswalk_map.add_layer(layer)\n",
    "crosswalk_map"
   ]
  },
  {
   "cell_type": "markdown",
   "metadata": {},
   "source": [
    "\n",
    "### Create an Assignment for Each Feature\n",
    "For each assignment, let's use the geometry and attributes of the existing feature to create the assignment. Then let's use the batch_add method to add multiple assignments at once (this is faster than using the add method since validation is performed once for all assignments)."
   ]
  },
  {
   "cell_type": "code",
   "execution_count": 5,
   "metadata": {},
   "outputs": [
    {
     "data": {
      "text/plain": [
       "[<Assignment 128>,\n",
       " <Assignment 129>,\n",
       " <Assignment 130>,\n",
       " <Assignment 131>,\n",
       " <Assignment 132>,\n",
       " <Assignment 133>,\n",
       " <Assignment 134>,\n",
       " <Assignment 135>,\n",
       " <Assignment 136>,\n",
       " <Assignment 137>,\n",
       " <Assignment 138>]"
      ]
     },
     "execution_count": 5,
     "metadata": {},
     "output_type": "execute_result"
    }
   ],
   "source": [
    "assignments = []\n",
    "for feature in crosswalks:\n",
    "    assignments.append(\n",
    "        workforce.Assignment(\n",
    "            project,\n",
    "            geometry=feature.geometry,\n",
    "            location=feature.attributes[\"location\"],\n",
    "            description=feature.attributes[\"description\"],\n",
    "            priority=feature.attributes[\"priority\"],\n",
    "            assignment_type=\"Paint Crosswalk\",\n",
    "            status=\"unassigned\"\n",
    "        )\n",
    "    )\n",
    "project.assignments.batch_add(assignments)"
   ]
  },
  {
   "cell_type": "markdown",
   "metadata": {},
   "source": [
    "### Verify Assignments on the Map"
   ]
  },
  {
   "cell_type": "code",
   "execution_count": 6,
   "metadata": {},
   "outputs": [
    {
     "data": {
      "application/vnd.jupyter.widget-view+json": {
       "model_id": "0023f0e91d5d4954908c3c165c8e1c39",
       "version_major": 2,
       "version_minor": 0
      },
      "text/plain": [
       "MapView(layout=Layout(height='400px', width='100%'), zoom=12.0)"
      ]
     },
     "metadata": {},
     "output_type": "display_data"
    },
    {
     "data": {
      "text/html": [
       "<div class=\"map-static-img-preview-cf7d2faa-6371-4cf7-9893-5fd920d57cfa\"><img src=\"\"></img></div>"
      ],
      "text/plain": [
       "<IPython.core.display.HTML object>"
      ]
     },
     "metadata": {},
     "output_type": "display_data"
    }
   ],
   "source": [
    "webmap = gis.map(\"Palm Springs\", zoomlevel=12)\n",
    "webmap.add_layer(project.assignments_layer)\n",
    "webmap"
   ]
  }
 ],
 "metadata": {
  "kernelspec": {
   "display_name": "Python 3",
   "language": "python",
   "name": "python3"
  },
  "language_info": {
   "codemirror_mode": {
    "name": "ipython",
    "version": 3
   },
   "file_extension": ".py",
   "mimetype": "text/x-python",
   "name": "python",
   "nbconvert_exporter": "python",
   "pygments_lexer": "ipython3",
   "version": "3.7.0"
  }
 },
 "nbformat": 4,
 "nbformat_minor": 2
}
