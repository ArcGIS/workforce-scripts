{
 "cells": [
  {
   "cell_type": "markdown",
   "metadata": {},
   "source": [
    "## These are a series of notebooks presented at the 2020 Esri Developer Summit Conference\n",
    "\n",
    "They highlight configuring a Workforce Project by adding users, assignment types, integrations, and assignments using various ways. The notebooks should be followed in order. By substituting the credentials, layers, and project, with your own information these workflows should be easily replicated.\n",
    "\n",
    "These notebooks require the ArcGIS API for Python version 1.6 or higher as well as shapely or arcpy installed.\n",
    "\n",
    "In the blocks below, there is some code that can be used to throughout the notebooks (if necessary)."
   ]
  },
  {
   "cell_type": "markdown",
   "metadata": {},
   "source": [
    "### Reset Project\n",
    "The following block can be used to reset the Workforce Project to the original state."
   ]
  },
  {
   "cell_type": "code",
   "execution_count": null,
   "metadata": {},
   "outputs": [],
   "source": [
    "import arcgis\n",
    "from arcgis.apps import workforce\n",
    "\n",
    "gis = arcgis.gis.GIS(\"https://arcgis.com\", \"workforce_scripts\")\n",
    "item = gis.content.get(\"c765482bd0b9479b9104368da54df90d\")\n",
    "project = workforce.Project(item)\n",
    "\n",
    "project.assignments_item.layers[0].delete_features(where=\"1=1\")\n",
    "project.dispatchers.batch_delete(project.dispatchers.search(\"userId <> 'workforce_scripts'\"))\n",
    "project.workers.batch_delete(project.workers.search())\n",
    "project.assignment_types.batch_delete(project.assignment_types.search())\n",
    "project.integrations.batch_delete([project.integrations.get('default-explorer'), project.integrations.get('waze-navigation')])"
   ]
  },
  {
   "cell_type": "markdown",
   "metadata": {
    "pycharm": {
     "name": "#%% md\n"
    }
   },
   "source": []
  }
 ],
 "metadata": {
  "kernelspec": {
   "display_name": "Python 3",
   "language": "python",
   "name": "python3"
  },
  "language_info": {
   "codemirror_mode": {
    "name": "ipython",
    "version": 3
   },
   "file_extension": ".py",
   "mimetype": "text/x-python",
   "name": "python",
   "nbconvert_exporter": "python",
   "pygments_lexer": "ipython3",
   "version": "3.6.8"
  },
  "pycharm": {
   "stem_cell": {
    "cell_type": "raw",
    "source": [],
    "metadata": {
     "collapsed": false
    }
   }
  }
 },
 "nbformat": 4,
 "nbformat_minor": 2
}