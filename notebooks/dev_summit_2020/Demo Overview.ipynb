{
 "cells": [
  {
   "cell_type": "markdown",
   "metadata": {},
   "source": [
    "## These are a series of notebooks presented at the 2020 Esri Developer Summit Conference\n",
    "\n",
    "They highlight configuring a Workforce Project by creating a project, adding users, assignment types, integrations, and assignments using various ways. The notebooks should be followed in order. By substituting the credentials, layers, and project, with your own information these workflows should be easily replicated.\n",
    "\n",
    "These notebooks require the ArcGIS API for Python version 1.7 or higher as well as shapely or arcpy installed.\n",
    "\n",
    "In the blocks below, there is some code that can be used to throughout the notebooks (if necessary)."
   ]
  },
  {
   "cell_type": "markdown",
   "metadata": {},
   "source": [
    "### Reset Project\n",
    "The following block can be used to reset the Workforce Project to the original state."
   ]
  },
  {
   "cell_type": "code",
   "execution_count": 1,
   "metadata": {},
   "outputs": [
    {
     "name": "stderr",
     "output_type": "stream",
     "text": [
      "/Users/nira9586/anaconda3/envs/workforce-scripts/lib/python3.7/site-packages/arcgis/features/_data/geodataset/utils.py:15: FutureWarning: The pandas.datetime class is deprecated and will be removed from pandas in a future version. Import from datetime module instead.\n",
      "  pd.datetime,\n"
     ]
    },
    {
     "name": "stdout",
     "output_type": "stream",
     "text": [
      "Enter password: ········\n"
     ]
    }
   ],
   "source": [
    "import arcgis\n",
    "from arcgis.apps import workforce\n",
    "\n",
    "gis = arcgis.gis.GIS(\"https://arcgis.com\", \"workforce_scripts\")\n",
    "item = gis.content.get(\"c765482bd0b9479b9104368da54df90d\")\n",
    "project = workforce.Project(item)\n",
    "\n",
    "project.assignments_item.layers[0].delete_features(where=\"1=1\")\n",
    "project.dispatchers.batch_delete(project.dispatchers.search(\"userId <> 'workforce_scripts'\"))\n",
    "project.workers.batch_delete(project.workers.search())\n",
    "project.assignment_types.batch_delete(project.assignment_types.search())\n",
    "project.integrations.batch_delete([project.integrations.get('default-explorer'), project.integrations.get('waze-navigation')])"
   ]
  },
  {
   "cell_type": "markdown",
   "metadata": {
    "pycharm": {
     "name": "#%% md\n"
    }
   },
   "source": []
  },
  {
   "cell_type": "markdown",
   "metadata": {},
   "source": [
    "## Coming : Support for Project Creation, V2 Projects\n",
    "\n",
    "Workforce is moving to offline-supported projects. In the newest version of the Workforce module for the Python API, you'll not only be able to use the same functioanlity to support offline projects, but we'll also allow creation of projects from the API:\n",
    "\n",
    "arcgis.apps.workforce.create_project('project title', major_version=2)\n",
    "\n",
    "\n",
    "You can get this functionality now by joining the Beta community and checking out our Automation documentation in the Early Adopter Community."
   ]
  }
 ],
 "metadata": {
  "kernelspec": {
   "display_name": "Python 3",
   "language": "python",
   "name": "python3"
  },
  "language_info": {
   "codemirror_mode": {
    "name": "ipython",
    "version": 3
   },
   "file_extension": ".py",
   "mimetype": "text/x-python",
   "name": "python",
   "nbconvert_exporter": "python",
   "pygments_lexer": "ipython3",
   "version": "3.7.0"
  },
  "pycharm": {
   "stem_cell": {
    "cell_type": "raw",
    "metadata": {
     "collapsed": false
    },
    "source": []
   }
  }
 },
 "nbformat": 4,
 "nbformat_minor": 2
}
