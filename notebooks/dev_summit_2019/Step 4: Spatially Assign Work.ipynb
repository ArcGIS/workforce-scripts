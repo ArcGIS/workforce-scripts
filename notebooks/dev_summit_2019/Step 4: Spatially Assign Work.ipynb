{
 "cells": [
  {
   "cell_type": "markdown",
   "metadata": {},
   "source": [
    "# Spatially Assign Work¶\n",
    "In this example, assignments will be assigned to specific workers based on the city district that it falls in. A layer in ArcGIS Online representing the city districts in San Diego will be used.\n",
    "\n",
    "* Note: This example requires having Arcpy or Shapely installed in the Python environment."
   ]
  },
  {
   "cell_type": "code",
   "execution_count": 1,
   "metadata": {},
   "outputs": [],
   "source": [
    "from datetime import datetime\n",
    "from arcgis.gis import GIS\n",
    "from arcgis.geometry import Geometry\n",
    "from arcgis.mapping import WebMap\n",
    "from arcgis.apps import workforce\n",
    "from datetime import datetime\n"
   ]
  },
  {
   "cell_type": "markdown",
   "metadata": {},
   "source": [
    "### Connect to organization and Get the Project\n",
    "Let's connect to ArcGIS Online and get the Project with assignments."
   ]
  },
  {
   "cell_type": "code",
   "execution_count": 2,
   "metadata": {},
   "outputs": [
    {
     "name": "stdout",
     "output_type": "stream",
     "text": [
      "Enter password: ········\n"
     ]
    }
   ],
   "source": [
    "gis = GIS(\"https://arcgis.com\", \"workforce_scripts\")\n",
    "item = gis.content.get(\"c765482bd0b9479b9104368da54df90d\")\n",
    "project = workforce.Project(item)"
   ]
  },
  {
   "cell_type": "markdown",
   "metadata": {},
   "source": [
    "### Get Layer of City Districts\n",
    "Let's get the layer representing city districts and display it."
   ]
  },
  {
   "cell_type": "code",
   "execution_count": 3,
   "metadata": {},
   "outputs": [
    {
     "data": {
      "text/plain": [
       "MapView(layout=Layout(height='400px', width='100%'), zoom=10.0)"
      ]
     },
     "metadata": {},
     "output_type": "display_data"
    },
    {
     "data": {
      "text/html": [
       "<div class=\"map-static-img-preview-d1af51dd-e47c-4be9-9567-0b4246cc2502\"><img src=\"\"></img></div>"
      ],
      "text/plain": [
       "<IPython.core.display.HTML object>"
      ]
     },
     "metadata": {},
     "output_type": "execute_result"
    }
   ],
   "source": [
    "grid_layer = gis.content.get(\"8a79535e0dc04410b5564c0e45428a2c\").layers[0]\n",
    "grid_map = gis.map(\"Palm Springs, CA\", zoomlevel=10)\n",
    "grid_map.add_layer(grid_layer)\n",
    "grid_map"
   ]
  },
  {
   "cell_type": "markdown",
   "metadata": {},
   "source": [
    "### Add Assignments to the Map"
   ]
  },
  {
   "cell_type": "code",
   "execution_count": 4,
   "metadata": {},
   "outputs": [],
   "source": [
    "grid_map.add_layer(project.assignments_layer)"
   ]
  },
  {
   "cell_type": "markdown",
   "metadata": {},
   "source": [
    "### Assign Assignments Based on Which District They Intersect¶\n",
    "Let's fetch the districts layer and query to get all of the districts. Then, for each unassigned assignment intersect the assignment with all districts to determine which district it falls in. Assignments in the yellow district (3) should be assigned to James. Assignments in the red district (8) should be assigned to Aaron. Finally update all of the assignments using \"batch_update\"."
   ]
  },
  {
   "cell_type": "code",
   "execution_count": 5,
   "metadata": {},
   "outputs": [],
   "source": [
    "aaron = project.workers.get(user_id=\"aaron_nitro\")\n",
    "james = project.workers.get(user_id=\"james_Nitro\")"
   ]
  },
  {
   "cell_type": "code",
   "execution_count": 6,
   "metadata": {},
   "outputs": [],
   "source": [
    "paint_crosswalk = project.assignment_types.get(name=\"Paint Crosswalk\")\n",
    "assignments = project.assignments.search(f\"status=0 AND assignmentType={paint_crosswalk.code}\")"
   ]
  },
  {
   "cell_type": "markdown",
   "metadata": {},
   "source": [
    "\n",
    "### Verify Assignments are Assigned"
   ]
  },
  {
   "cell_type": "code",
   "execution_count": 8,
   "metadata": {},
   "outputs": [],
   "source": [
    "for assignment in assignments:\n",
    "    contains = grid_df[\"SHAPE\"].geom.contains(Geometry(assignment.geometry))\n",
    "    containers = grid_df[contains]\n",
    "    if not containers.empty: \n",
    "        grid = containers['ID'].iloc[0]\n",
    "        if grid == 10:\n",
    "            assignment.worker = james\n",
    "            assignment.status = \"assigned\"\n",
    "            assignment.assigned_date = datetime.utcnow()\n",
    "        elif district == 6:\n",
    "            assignment.worker = aaron\n",
    "            assignment.status = \"assigned\"\n",
    "            assignment.assigned_date = datetime.utcnow()\n",
    "\n",
    "# Update the assignments in the project\n",
    "assignments = project.assignments.batch_update(assignments)"
   ]
  },
  {
   "cell_type": "code",
   "execution_count": 9,
   "metadata": {},
   "outputs": [
    {
     "data": {
      "text/plain": [
       "MapView(layout=Layout(height='400px', width='100%'), zoom=11.0)"
      ]
     },
     "metadata": {},
     "output_type": "display_data"
    },
    {
     "data": {
      "text/html": [
       "<div class=\"map-static-img-preview-e50f44ec-f963-44fd-8dae-a943619742ff\"><img src=\"\"></img></div>"
      ],
      "text/plain": [
       "<IPython.core.display.HTML object>"
      ]
     },
     "metadata": {},
     "output_type": "execute_result"
    }
   ],
   "source": [
    "webmap = gis.map(\"Palm Springs\", zoomlevel=11)\n",
    "webmap.add_layer(project.assignments_layer)\n",
    "webmap"
   ]
  },
  {
   "cell_type": "code",
   "execution_count": 10,
   "metadata": {},
   "outputs": [
    {
     "data": {
      "text/html": [
       "<div>\n",
       "<style scoped>\n",
       "    .dataframe tbody tr th:only-of-type {\n",
       "        vertical-align: middle;\n",
       "    }\n",
       "\n",
       "    .dataframe tbody tr th {\n",
       "        vertical-align: top;\n",
       "    }\n",
       "\n",
       "    .dataframe thead th {\n",
       "        text-align: right;\n",
       "    }\n",
       "</style>\n",
       "<table border=\"1\" class=\"dataframe\">\n",
       "  <thead>\n",
       "    <tr style=\"text-align: right;\">\n",
       "      <th></th>\n",
       "      <th>ID</th>\n",
       "      <th>OID</th>\n",
       "      <th>SHAPE</th>\n",
       "      <th>Shape__Area</th>\n",
       "      <th>Shape__Length</th>\n",
       "    </tr>\n",
       "  </thead>\n",
       "  <tbody>\n",
       "    <tr>\n",
       "      <th>0</th>\n",
       "      <td>1</td>\n",
       "      <td>1</td>\n",
       "      <td>{\"rings\": [[[-12978141.8238, 3994514.2932], [-...</td>\n",
       "      <td>2.659381e+07</td>\n",
       "      <td>20766.7062</td>\n",
       "    </tr>\n",
       "    <tr>\n",
       "      <th>1</th>\n",
       "      <td>2</td>\n",
       "      <td>2</td>\n",
       "      <td>{\"rings\": [[[-12972350.4001, 3994514.2932], [-...</td>\n",
       "      <td>2.659381e+07</td>\n",
       "      <td>20766.7064</td>\n",
       "    </tr>\n",
       "    <tr>\n",
       "      <th>2</th>\n",
       "      <td>3</td>\n",
       "      <td>3</td>\n",
       "      <td>{\"rings\": [[[-12966558.9763, 3994514.2932], [-...</td>\n",
       "      <td>2.659381e+07</td>\n",
       "      <td>20766.7062</td>\n",
       "    </tr>\n",
       "    <tr>\n",
       "      <th>3</th>\n",
       "      <td>4</td>\n",
       "      <td>4</td>\n",
       "      <td>{\"rings\": [[[-12960767.5526, 3994514.2932], [-...</td>\n",
       "      <td>2.659381e+07</td>\n",
       "      <td>20766.7064</td>\n",
       "    </tr>\n",
       "    <tr>\n",
       "      <th>4</th>\n",
       "      <td>5</td>\n",
       "      <td>5</td>\n",
       "      <td>{\"rings\": [[[-12978141.8238, 3999106.2226], [-...</td>\n",
       "      <td>2.659381e+07</td>\n",
       "      <td>20766.7062</td>\n",
       "    </tr>\n",
       "    <tr>\n",
       "      <th>5</th>\n",
       "      <td>6</td>\n",
       "      <td>6</td>\n",
       "      <td>{\"rings\": [[[-12972350.4001, 3999106.2226], [-...</td>\n",
       "      <td>2.659381e+07</td>\n",
       "      <td>20766.7064</td>\n",
       "    </tr>\n",
       "    <tr>\n",
       "      <th>6</th>\n",
       "      <td>7</td>\n",
       "      <td>7</td>\n",
       "      <td>{\"rings\": [[[-12966558.9763, 3999106.2226], [-...</td>\n",
       "      <td>2.659381e+07</td>\n",
       "      <td>20766.7062</td>\n",
       "    </tr>\n",
       "    <tr>\n",
       "      <th>7</th>\n",
       "      <td>8</td>\n",
       "      <td>8</td>\n",
       "      <td>{\"rings\": [[[-12960767.5526, 3999106.2226], [-...</td>\n",
       "      <td>2.659381e+07</td>\n",
       "      <td>20766.7064</td>\n",
       "    </tr>\n",
       "    <tr>\n",
       "      <th>8</th>\n",
       "      <td>9</td>\n",
       "      <td>9</td>\n",
       "      <td>{\"rings\": [[[-12978141.8238, 4003698.152], [-1...</td>\n",
       "      <td>2.659381e+07</td>\n",
       "      <td>20766.7060</td>\n",
       "    </tr>\n",
       "    <tr>\n",
       "      <th>9</th>\n",
       "      <td>10</td>\n",
       "      <td>10</td>\n",
       "      <td>{\"rings\": [[[-12972350.4001, 4003698.152], [-1...</td>\n",
       "      <td>2.659381e+07</td>\n",
       "      <td>20766.7062</td>\n",
       "    </tr>\n",
       "    <tr>\n",
       "      <th>10</th>\n",
       "      <td>11</td>\n",
       "      <td>11</td>\n",
       "      <td>{\"rings\": [[[-12966558.9763, 4003698.152], [-1...</td>\n",
       "      <td>2.659381e+07</td>\n",
       "      <td>20766.7060</td>\n",
       "    </tr>\n",
       "    <tr>\n",
       "      <th>11</th>\n",
       "      <td>12</td>\n",
       "      <td>12</td>\n",
       "      <td>{\"rings\": [[[-12960767.5526, 4003698.152], [-1...</td>\n",
       "      <td>2.659381e+07</td>\n",
       "      <td>20766.7062</td>\n",
       "    </tr>\n",
       "    <tr>\n",
       "      <th>12</th>\n",
       "      <td>13</td>\n",
       "      <td>13</td>\n",
       "      <td>{\"rings\": [[[-12978141.8238, 4008290.0813], [-...</td>\n",
       "      <td>2.659381e+07</td>\n",
       "      <td>20766.7062</td>\n",
       "    </tr>\n",
       "    <tr>\n",
       "      <th>13</th>\n",
       "      <td>14</td>\n",
       "      <td>14</td>\n",
       "      <td>{\"rings\": [[[-12972350.4001, 4008290.0813], [-...</td>\n",
       "      <td>2.659381e+07</td>\n",
       "      <td>20766.7064</td>\n",
       "    </tr>\n",
       "    <tr>\n",
       "      <th>14</th>\n",
       "      <td>15</td>\n",
       "      <td>15</td>\n",
       "      <td>{\"rings\": [[[-12966558.9763, 4008290.0813], [-...</td>\n",
       "      <td>2.659381e+07</td>\n",
       "      <td>20766.7062</td>\n",
       "    </tr>\n",
       "    <tr>\n",
       "      <th>15</th>\n",
       "      <td>16</td>\n",
       "      <td>16</td>\n",
       "      <td>{\"rings\": [[[-12960767.5526, 4008290.0813], [-...</td>\n",
       "      <td>2.659381e+07</td>\n",
       "      <td>20766.7064</td>\n",
       "    </tr>\n",
       "  </tbody>\n",
       "</table>\n",
       "</div>"
      ],
      "text/plain": [
       "    ID  OID                                              SHAPE   Shape__Area  \\\n",
       "0    1    1  {\"rings\": [[[-12978141.8238, 3994514.2932], [-...  2.659381e+07   \n",
       "1    2    2  {\"rings\": [[[-12972350.4001, 3994514.2932], [-...  2.659381e+07   \n",
       "2    3    3  {\"rings\": [[[-12966558.9763, 3994514.2932], [-...  2.659381e+07   \n",
       "3    4    4  {\"rings\": [[[-12960767.5526, 3994514.2932], [-...  2.659381e+07   \n",
       "4    5    5  {\"rings\": [[[-12978141.8238, 3999106.2226], [-...  2.659381e+07   \n",
       "5    6    6  {\"rings\": [[[-12972350.4001, 3999106.2226], [-...  2.659381e+07   \n",
       "6    7    7  {\"rings\": [[[-12966558.9763, 3999106.2226], [-...  2.659381e+07   \n",
       "7    8    8  {\"rings\": [[[-12960767.5526, 3999106.2226], [-...  2.659381e+07   \n",
       "8    9    9  {\"rings\": [[[-12978141.8238, 4003698.152], [-1...  2.659381e+07   \n",
       "9   10   10  {\"rings\": [[[-12972350.4001, 4003698.152], [-1...  2.659381e+07   \n",
       "10  11   11  {\"rings\": [[[-12966558.9763, 4003698.152], [-1...  2.659381e+07   \n",
       "11  12   12  {\"rings\": [[[-12960767.5526, 4003698.152], [-1...  2.659381e+07   \n",
       "12  13   13  {\"rings\": [[[-12978141.8238, 4008290.0813], [-...  2.659381e+07   \n",
       "13  14   14  {\"rings\": [[[-12972350.4001, 4008290.0813], [-...  2.659381e+07   \n",
       "14  15   15  {\"rings\": [[[-12966558.9763, 4008290.0813], [-...  2.659381e+07   \n",
       "15  16   16  {\"rings\": [[[-12960767.5526, 4008290.0813], [-...  2.659381e+07   \n",
       "\n",
       "    Shape__Length  \n",
       "0      20766.7062  \n",
       "1      20766.7064  \n",
       "2      20766.7062  \n",
       "3      20766.7064  \n",
       "4      20766.7062  \n",
       "5      20766.7064  \n",
       "6      20766.7062  \n",
       "7      20766.7064  \n",
       "8      20766.7060  \n",
       "9      20766.7062  \n",
       "10     20766.7060  \n",
       "11     20766.7062  \n",
       "12     20766.7062  \n",
       "13     20766.7064  \n",
       "14     20766.7062  \n",
       "15     20766.7064  "
      ]
     },
     "execution_count": 10,
     "metadata": {},
     "output_type": "execute_result"
    }
   ],
   "source": [
    "import arcgis\n",
    "\n",
    "gis = arcgis.gis.GIS(\"https://arcgis.com\", \"workforce_scripts\", \"esri12345\")\n",
    "item = gis.content.get(\"8a79535e0dc04410b5564c0e45428a2c\")\n",
    "\n",
    "item.layers[0].query(as_df=True)"
   ]
  },
  {
   "cell_type": "code",
   "execution_count": 11,
   "metadata": {},
   "outputs": [
    {
     "ename": "NameError",
     "evalue": "name 'assignnments' is not defined",
     "traceback": [
      "\u001b[0;31m---------------------------------------------------------------------------\u001b[0m",
      "\u001b[0;31mNameError\u001b[0m                                 Traceback (most recent call last)",
      "\u001b[0;32m<ipython-input-11-424bc4a4e457>\u001b[0m in \u001b[0;36m<module>\u001b[0;34m\u001b[0m\n\u001b[0;32m----> 1\u001b[0;31m \u001b[0mproject\u001b[0m\u001b[0;34m.\u001b[0m\u001b[0massignments\u001b[0m\u001b[0;34m.\u001b[0m\u001b[0mbatch_delete\u001b[0m\u001b[0;34m(\u001b[0m\u001b[0massignnments\u001b[0m\u001b[0;34m)\u001b[0m\u001b[0;34m\u001b[0m\u001b[0;34m\u001b[0m\u001b[0m\n\u001b[0m",
      "\u001b[0;31mNameError\u001b[0m: name 'assignnments' is not defined"
     ],
     "output_type": "error"
    }
   ],
   "source": [
    "project.assignments.batch_delete(assignnments)"
   ]
  },
  {
   "cell_type": "code",
   "execution_count": null,
   "metadata": {},
   "outputs": [],
   "source": []
  }
 ],
 "metadata": {
  "kernelspec": {
   "display_name": "Python 3",
   "language": "python",
   "name": "python3"
  },
  "language_info": {
   "codemirror_mode": {
    "name": "ipython",
    "version": 3
   },
   "file_extension": ".py",
   "mimetype": "text/x-python",
   "name": "python",
   "nbconvert_exporter": "python",
   "pygments_lexer": "ipython3",
   "version": "3.6.8"
  }
 },
 "nbformat": 4,
 "nbformat_minor": 2
}
