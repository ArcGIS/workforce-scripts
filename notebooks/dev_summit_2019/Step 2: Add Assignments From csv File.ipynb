{
 "cells": [
  {
   "cell_type": "markdown",
   "metadata": {},
   "source": [
    "# Import Assignments From a CSV File¶\n",
    "In this example, a CSV file containing the locations of potholes will be imported into a Workforce Project as new assignments."
   ]
  },
  {
   "cell_type": "code",
   "execution_count": 2,
   "metadata": {},
   "outputs": [],
   "source": [
    "\n",
    "import pandas as pd\n",
    "from arcgis.gis import GIS\n",
    "from arcgis.apps import workforce\n",
    "from arcgis.geocoding import geocode"
   ]
  },
  {
   "cell_type": "markdown",
   "metadata": {},
   "source": [
    "\n",
    "### Connect to Organization And Get The Project\n",
    "Let's connect to ArcGIS Online and find the new Project to add assignments to."
   ]
  },
  {
   "cell_type": "code",
   "execution_count": 3,
   "metadata": {},
   "outputs": [
    {
     "name": "stdout",
     "output_type": "stream",
     "text": [
      "Enter password: ········\n"
     ]
    }
   ],
   "source": [
    "\n",
    "gis = GIS(\"https://arcgis.com\", \"workforce_scripts\")\n",
    "item = gis.content.get(\"c765482bd0b9479b9104368da54df90d\")\n",
    "project = workforce.Project(item)"
   ]
  },
  {
   "cell_type": "markdown",
   "metadata": {},
   "source": [
    "\n",
    "### Load the CSV File¶\n",
    "Let's use the pandas library to read the CSV file and display the potholes."
   ]
  },
  {
   "cell_type": "code",
   "execution_count": 9,
   "metadata": {
    "scrolled": true
   },
   "outputs": [
    {
     "data": {
      "text/html": [
       "<div>\n",
       "<style scoped>\n",
       "    .dataframe tbody tr th:only-of-type {\n",
       "        vertical-align: middle;\n",
       "    }\n",
       "\n",
       "    .dataframe tbody tr th {\n",
       "        vertical-align: top;\n",
       "    }\n",
       "\n",
       "    .dataframe thead th {\n",
       "        text-align: right;\n",
       "    }\n",
       "</style>\n",
       "<table border=\"1\" class=\"dataframe\">\n",
       "  <thead>\n",
       "    <tr style=\"text-align: right;\">\n",
       "      <th></th>\n",
       "      <th>xField</th>\n",
       "      <th>yField</th>\n",
       "      <th>Type</th>\n",
       "      <th>Location</th>\n",
       "      <th>Dispatcher</th>\n",
       "      <th>Description</th>\n",
       "      <th>Priority</th>\n",
       "      <th>Work Order Id</th>\n",
       "      <th>Due Date</th>\n",
       "      <th>Attachment</th>\n",
       "      <th>Worker</th>\n",
       "    </tr>\n",
       "  </thead>\n",
       "  <tbody>\n",
       "    <tr>\n",
       "      <th>0</th>\n",
       "      <td>-116.539453</td>\n",
       "      <td>33.829361</td>\n",
       "      <td>Gardening</td>\n",
       "      <td>480 E Tahquitz Canyon Way Palm Springs</td>\n",
       "      <td>workforce_script</td>\n",
       "      <td>Need to remove the fallen tree</td>\n",
       "      <td>high</td>\n",
       "      <td>1</td>\n",
       "      <td>3/13/2018 22:43:00</td>\n",
       "      <td>NaN</td>\n",
       "      <td>aaron_nitro</td>\n",
       "    </tr>\n",
       "    <tr>\n",
       "      <th>1</th>\n",
       "      <td>-116.539490</td>\n",
       "      <td>33.831087</td>\n",
       "      <td>Gardening</td>\n",
       "      <td>456 E Andreas Rd Palm Springs</td>\n",
       "      <td>workforce_script</td>\n",
       "      <td>Need to plant a new tree here</td>\n",
       "      <td>medium</td>\n",
       "      <td>2</td>\n",
       "      <td>3/13/2018 21:43:05</td>\n",
       "      <td>NaN</td>\n",
       "      <td>aaron_nitro</td>\n",
       "    </tr>\n",
       "    <tr>\n",
       "      <th>2</th>\n",
       "      <td>-116.541971</td>\n",
       "      <td>33.827400</td>\n",
       "      <td>Tree Removal</td>\n",
       "      <td>200 E Arenas Rd Palm Springs</td>\n",
       "      <td>workforce_script</td>\n",
       "      <td>Clean up the trash in the street</td>\n",
       "      <td>low</td>\n",
       "      <td>3</td>\n",
       "      <td>3/13/2018 19:43:09</td>\n",
       "      <td>../uc_data/attachments/trash.png</td>\n",
       "      <td>aaron_nitro</td>\n",
       "    </tr>\n",
       "    <tr>\n",
       "      <th>3</th>\n",
       "      <td>-116.546015</td>\n",
       "      <td>33.831499</td>\n",
       "      <td>Gardening</td>\n",
       "      <td>Skyline Trailhead Palm Springs</td>\n",
       "      <td>workforce_script</td>\n",
       "      <td>Clean up the trash near the trailhead</td>\n",
       "      <td>critical</td>\n",
       "      <td>4</td>\n",
       "      <td>3/14/2018 10:43:00</td>\n",
       "      <td>../uc_data/attachments/trash.png</td>\n",
       "      <td>NaN</td>\n",
       "    </tr>\n",
       "    <tr>\n",
       "      <th>4</th>\n",
       "      <td>-116.535492</td>\n",
       "      <td>33.840141</td>\n",
       "      <td>Gardening</td>\n",
       "      <td>Ruth Hardy Park Palm Springs</td>\n",
       "      <td>workforce_script</td>\n",
       "      <td>The gardens need to be weeded</td>\n",
       "      <td>high</td>\n",
       "      <td>5</td>\n",
       "      <td>3/14/2018 18:43:09</td>\n",
       "      <td>NaN</td>\n",
       "      <td>NaN</td>\n",
       "    </tr>\n",
       "    <tr>\n",
       "      <th>5</th>\n",
       "      <td>-116.524686</td>\n",
       "      <td>33.830887</td>\n",
       "      <td>Gardening</td>\n",
       "      <td>196 N Sunrise Way Palm Springs</td>\n",
       "      <td>workforce_script</td>\n",
       "      <td>Clean up trash</td>\n",
       "      <td>low</td>\n",
       "      <td>6</td>\n",
       "      <td>3/15/2018 14:00:00</td>\n",
       "      <td>NaN</td>\n",
       "      <td>NaN</td>\n",
       "    </tr>\n",
       "  </tbody>\n",
       "</table>\n",
       "</div>"
      ],
      "text/plain": [
       "       xField     yField          Type  \\\n",
       "0 -116.539453  33.829361     Gardening   \n",
       "1 -116.539490  33.831087     Gardening   \n",
       "2 -116.541971  33.827400  Tree Removal   \n",
       "3 -116.546015  33.831499     Gardening   \n",
       "4 -116.535492  33.840141     Gardening   \n",
       "5 -116.524686  33.830887     Gardening   \n",
       "\n",
       "                                 Location        Dispatcher  \\\n",
       "0  480 E Tahquitz Canyon Way Palm Springs  workforce_script   \n",
       "1           456 E Andreas Rd Palm Springs  workforce_script   \n",
       "2            200 E Arenas Rd Palm Springs  workforce_script   \n",
       "3          Skyline Trailhead Palm Springs  workforce_script   \n",
       "4            Ruth Hardy Park Palm Springs  workforce_script   \n",
       "5          196 N Sunrise Way Palm Springs  workforce_script   \n",
       "\n",
       "                             Description  Priority  Work Order Id  \\\n",
       "0         Need to remove the fallen tree      high              1   \n",
       "1          Need to plant a new tree here    medium              2   \n",
       "2       Clean up the trash in the street       low              3   \n",
       "3  Clean up the trash near the trailhead  critical              4   \n",
       "4          The gardens need to be weeded      high              5   \n",
       "5                         Clean up trash       low              6   \n",
       "\n",
       "             Due Date                        Attachment       Worker  \n",
       "0  3/13/2018 22:43:00                               NaN  aaron_nitro  \n",
       "1  3/13/2018 21:43:05                               NaN  aaron_nitro  \n",
       "2  3/13/2018 19:43:09  ../uc_data/attachments/trash.png  aaron_nitro  \n",
       "3  3/14/2018 10:43:00  ../uc_data/attachments/trash.png          NaN  \n",
       "4  3/14/2018 18:43:09                               NaN          NaN  \n",
       "5  3/15/2018 14:00:00                               NaN          NaN  "
      ]
     },
     "execution_count": 9,
     "metadata": {},
     "output_type": "execute_result"
    }
   ],
   "source": [
    "\n",
    "df = pd.read_csv(\"assignments.csv\")\n",
    "df"
   ]
  },
  {
   "cell_type": "markdown",
   "metadata": {},
   "source": [
    "### Create An Assignment For Each Row\n",
    "For each assignment, First geocode the address to get the x,y location in (WGS84 Web Mercator) of the assignment. Then supply additional attributes.\n",
    "\n",
    "Finally use the batch_add method to add multiple assignments at once (this is faster than using the add method since validation is performed once for all assignments)."
   ]
  },
  {
   "cell_type": "code",
   "execution_count": 10,
   "metadata": {},
   "outputs": [
    {
     "data": {
      "text/plain": [
       "[<Assignment 129>,\n",
       " <Assignment 130>,\n",
       " <Assignment 131>,\n",
       " <Assignment 132>,\n",
       " <Assignment 133>,\n",
       " <Assignment 134>]"
      ]
     },
     "execution_count": 10,
     "metadata": {},
     "output_type": "execute_result"
    }
   ],
   "source": [
    "assignments = []\n",
    "for index, row in df.iterrows():\n",
    "    geometry = geocode(f\"{row['Location']}\", out_sr=3857)[0][\"location\"]\n",
    "    assignments.append(\n",
    "        workforce.Assignment(\n",
    "            project,\n",
    "            geometry=geometry,\n",
    "            location=row[\"Location\"],\n",
    "            description=row[\"Description\"],\n",
    "            priority=row[\"Priority\"],\n",
    "            work_order_id=row[\"Work Order Id\"],\n",
    "            assignment_type=\"Fill in Pothole\",\n",
    "            status=\"unassigned\"\n",
    "        )\n",
    "    )\n",
    "project.assignments.batch_add(assignments)"
   ]
  },
  {
   "cell_type": "markdown",
   "metadata": {},
   "source": [
    "\n",
    "### Verify the assignments on the map\n",
    "Let's verify that the assignments were created."
   ]
  },
  {
   "cell_type": "code",
   "execution_count": 11,
   "metadata": {},
   "outputs": [
    {
     "data": {
      "application/vnd.jupyter.widget-view+json": {
       "model_id": "209e50617bee4a3797088523594b1e42",
       "version_major": 2,
       "version_minor": 0
      },
      "text/plain": [
       "MapView(layout=Layout(height='400px', width='100%'), zoom=14.0)"
      ]
     },
     "metadata": {},
     "output_type": "display_data"
    },
    {
     "data": {
      "text/html": [
       "<div class=\"map-static-img-preview-c466e524-f147-41ed-8318-49dba7007200\"><img src=\"\"></img></div>"
      ],
      "text/plain": [
       "<IPython.core.display.HTML object>"
      ]
     },
     "metadata": {},
     "output_type": "display_data"
    }
   ],
   "source": [
    "webmap = gis.map(\"Palm Springs\", zoomlevel=14)\n",
    "webmap.add_layer(project.assignments_layer)\n",
    "webmap"
   ]
  }
 ],
 "metadata": {
  "kernelspec": {
   "display_name": "Python 3",
   "language": "python",
   "name": "python3"
  },
  "language_info": {
   "codemirror_mode": {
    "name": "ipython",
    "version": 3
   },
   "file_extension": ".py",
   "mimetype": "text/x-python",
   "name": "python",
   "nbconvert_exporter": "python",
   "pygments_lexer": "ipython3",
   "version": "3.6.8"
  }
 },
 "nbformat": 4,
 "nbformat_minor": 2
}
