{
 "cells": [
  {
   "cell_type": "markdown",
   "metadata": {},
   "source": [
    "# Import Assignments From a SQLite Database\n",
    "In this example, assignments stored in a SQLite database, representing sidewalks that need to be repaired, will be imported into a Workforce Project as assignments."
   ]
  },
  {
   "cell_type": "markdown",
   "metadata": {},
   "source": [
    "### Import ArcGIS API for Python\n",
    "Import the `arcgis` library and some modules within it.\n",
    "Import sqlite3 and pandas modules"
   ]
  },
  {
   "cell_type": "code",
   "execution_count": null,
   "metadata": {},
   "outputs": [],
   "source": [
    "import sqlite3\n",
    "from datetime import datetime\n",
    "import pandas as pd\n",
    "from arcgis.gis import GIS\n",
    "from arcgis.apps import workforce\n",
    "from arcgis.geocoding import geocode"
   ]
  },
  {
   "cell_type": "markdown",
   "metadata": {},
   "source": [
    "### Connect to Organization and Get the Project\n",
    "Let's connect to ArcGIS Online and find the project."
   ]
  },
  {
   "cell_type": "code",
   "execution_count": null,
   "metadata": {},
   "outputs": [],
   "source": [
    "gis = GIS(\"https://arcgis.com\", \"workforce_scripts\")\n",
    "item = gis.content.get(\"c765482bd0b9479b9104368da54df90d\")\n",
    "project = workforce.Project(item)"
   ]
  },
  {
   "cell_type": "markdown",
   "metadata": {},
   "source": [
    "### View All Assignments in SQLite\n",
    "Let's connect to the \"work_orders\" database and query all work orders from the \"work_orders\" table."
   ]
  },
  {
   "cell_type": "code",
   "execution_count": null,
   "metadata": {},
   "outputs": [],
   "source": [
    "connection = sqlite3.connect(\"work_orders\")\n",
    "df = pd.read_sql_query(\"select * from work_orders\", connection)\n",
    "df"
   ]
  },
  {
   "cell_type": "markdown",
   "metadata": {},
   "source": [
    "### Extract Specific Assignments to Add\n",
    "Notice how some orders have a status of \"Completed\" and how other orders have a status of \"Backlog\". Let's only query work orders that are in the backlog."
   ]
  },
  {
   "cell_type": "code",
   "execution_count": null,
   "metadata": {},
   "outputs": [],
   "source": [
    "df = pd.read_sql_query(\"select * from work_orders where status='Backlog'\", connection)\n",
    "df"
   ]
  },
  {
   "cell_type": "markdown",
   "metadata": {},
   "source": [
    "### Create An Assignment For Each Row\n",
    "For each assignment, first geocode the address to get the x,y location (in WGS 84 Web Mercator) of the assignment. Then supply additional attributes. Finally use the batch_add method to add multiple assignments at once (this is faster than using the add method since validation is performed once for all assignments)."
   ]
  },
  {
   "cell_type": "code",
   "execution_count": null,
   "metadata": {
    "scrolled": false
   },
   "outputs": [],
   "source": [
    "assignments = []\n",
    "for index, row in df.iterrows():\n",
    "    geometry = geocode(row[\"address\"], out_sr=3857)[0][\"location\"]\n",
    "    assignments.append(\n",
    "        workforce.Assignment(\n",
    "            project,\n",
    "            geometry=geometry,\n",
    "            location=row[\"address\"],\n",
    "            description=row[\"description\"],\n",
    "            priority=int(row[\"priority\"]),\n",
    "            work_order_id=row[\"id\"],\n",
    "            assignment_type=\"Sidewalk Repair\",\n",
    "            status=\"unassigned\",\n",
    "            due_date=pd.to_datetime(row[\"due_date\"])\n",
    "        )\n",
    "    )\n",
    "project.assignments.batch_add(assignments)"
   ]
  },
  {
   "cell_type": "markdown",
   "metadata": {},
   "source": [
    "### Verify the assignments on the map\n",
    "Let's verify that these sidewalk assignments were added."
   ]
  },
  {
   "cell_type": "code",
   "execution_count": null,
   "metadata": {},
   "outputs": [],
   "source": [
    "webmap = gis.map(\"Palm Springs\", zoomlevel=12)\n",
    "webmap.add_layer(project.assignments_layer)\n",
    "webmap"
   ]
  }
 ],
 "metadata": {
  "kernelspec": {
   "display_name": "Python 3",
   "language": "python",
   "name": "python3"
  },
  "language_info": {
   "codemirror_mode": {
    "name": "ipython",
    "version": 3
   },
   "file_extension": ".py",
   "mimetype": "text/x-python",
   "name": "python",
   "nbconvert_exporter": "python",
   "pygments_lexer": "ipython3",
   "version": "3.6.8"
  }
 },
 "nbformat": 4,
 "nbformat_minor": 2
}
