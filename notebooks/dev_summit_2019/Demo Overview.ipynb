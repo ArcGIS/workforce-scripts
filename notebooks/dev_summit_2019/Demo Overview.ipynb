{
 "cells": [
  {
   "cell_type": "markdown",
   "metadata": {},
   "source": [
    "## These are a series of notebooks presented at the 2019 Esri Developer Summit Conference\n",
    "\n",
    "They highlight configuring a Workforce Project by adding users, assignment types, integrations, and assignments using various ways. The notebooks should be followed in order. By substituting the credentials, layers, and project, with your own information these workflows should be easily replicated.\n",
    "\n",
    "These notebooks require the ArcGIS API for Python version 1.6 or higher as well as shapely or arcpy installed.\n",
    "\n",
    "In the blocks below, there is some code that can be used to throughout the notebooks (if necessary)."
   ]
  },
  {
   "cell_type": "markdown",
   "metadata": {},
   "source": [
    "### Reset Project\n",
    "The following block can be used to reset the Workforce Project to the original state."
   ]
  },
  {
   "cell_type": "code",
   "execution_count": null,
   "metadata": {},
   "outputs": [],
   "source": [
    "import arcgis\n",
    "from arcgis.apps import workforce\n",
    "\n",
    "gis = arcgis.gis.GIS(\"https://arcgis.com\", \"workforce_scripts\")\n",
    "item = gis.content.get(\"c765482bd0b9479b9104368da54df90d\")\n",
    "project = workforce.Project(item)\n",
    "\n",
    "project.assignments_item.layers[0].delete_features(where=\"1=1\")\n",
    "project.dispatchers.batch_delete(project.dispatchers.search(\"userId <> 'workforce_scripts'\"))\n",
    "project.workers.batch_delete(project.workers.search())\n",
    "project.assignment_types.batch_delete(project.assignment_types.search())"
   ]
  },
  {
   "cell_type": "markdown",
   "metadata": {},
   "source": [
    "### Build SQLite Database and Table\n",
    "For one of the notebooks, assignments are read from a SQLite database. The following block creates the database using sqlite3 and pandas."
   ]
  },
  {
   "cell_type": "code",
   "execution_count": null,
   "metadata": {},
   "outputs": [],
   "source": [
    "import sqlite3\n",
    "from datetime import datetime\n",
    "import pandas as pd\n",
    "\n",
    "df = pd.DataFrame(\n",
    "[\n",
    "    [1, datetime(2018, 7, 12), \"200 S Palm Canyon Dr, Palm Springs, CA 92262\", 1, \"Sidewalk Repair\", \"Completed\", \"The sidewalk needs to be fixed.\", \"Done\"],\n",
    "    [2, datetime(2018, 7, 13), \"500 S Palm Canyon Dr, Palm Springs, CA 92264\", 1, \"Sidewalk Repair\", \"Completed\", \"The sidewalk is uneven due to tree roots.\", \"Finished\"],\n",
    "    [3, datetime(2018, 7, 14), \"700 S Calle Palo Fierro, Palm Springs, CA 92264\", 2, \"Sidewalk Repair\", \"Backlog\", \"The sidewalk is very uneven.\", None],\n",
    "    [4, datetime(2018, 7, 15), \"100 S Sunrise Way, Palm Springs, CA 92262\", 2, \"Sidewalk Repair\", \"Backlog\", \"Please fix the sidewalk near the intersection\", None],\n",
    "    [5, datetime(2018, 7, 16), \"300 S Farrell Dr, Palm Springs, CA 92262\", 3, \"Sidewalk Repair\", \"Backlog\", \"Fix my side walk\", None],\n",
    "    [6, datetime(2018, 7, 12), \"900 N Palm Canyon Dr, Palm Springs, CA 92262\", 3, \"Sidewalk Repair\", \"Backlog\", \"Fix the side walk in front of my shop\", None],\n",
    "],\n",
    "columns=[\"id\", \"due_date\", \"address\", \"priority\", \"type\", \"status\", \"description\", \"notes\"])\n",
    "\n",
    "connection = sqlite3.connect(\"work_orders\")\n",
    "df.to_sql(\"work_orders\", connection, if_exists=\"replace\")\n",
    "df"
   ]
  }
 ],
 "metadata": {
  "kernelspec": {
   "display_name": "Python 3",
   "language": "python",
   "name": "python3"
  },
  "language_info": {
   "codemirror_mode": {
    "name": "ipython",
    "version": 3
   },
   "file_extension": ".py",
   "mimetype": "text/x-python",
   "name": "python",
   "nbconvert_exporter": "python",
   "pygments_lexer": "ipython3",
   "version": "3.6.8"
  }
 },
 "nbformat": 4,
 "nbformat_minor": 2
}
