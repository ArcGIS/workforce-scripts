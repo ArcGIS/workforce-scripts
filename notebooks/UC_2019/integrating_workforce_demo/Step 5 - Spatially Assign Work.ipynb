{
 "cells": [
  {
   "cell_type": "markdown",
   "metadata": {},
   "source": [
    "# Spatially Assign Work¶\n",
    "In this example, assignments will be assigned to specific workers based on the city district that it falls in. A layer in ArcGIS Online representing the city districts in Palm Springs will be used.\n",
    "\n",
    "* Note: This example requires having Arcpy or Shapely installed in the Python environment."
   ]
  },
  {
   "cell_type": "markdown",
   "metadata": {},
   "source": [
    "### Import ArcGIS API for Python\n",
    "Import the `arcgis` library and some modules within it."
   ]
  },
  {
   "cell_type": "code",
   "execution_count": null,
   "metadata": {},
   "outputs": [],
   "source": [
    "from datetime import datetime\n",
    "from arcgis.gis import GIS\n",
    "from arcgis.geometry import Geometry\n",
    "from arcgis.mapping import WebMap\n",
    "from arcgis.apps import workforce\n",
    "from datetime import datetime"
   ]
  },
  {
   "cell_type": "markdown",
   "metadata": {},
   "source": [
    "### Connect to organization and Get the Project\n",
    "Let's connect to ArcGIS Online and get the Project with assignments."
   ]
  },
  {
   "cell_type": "code",
   "execution_count": null,
   "metadata": {},
   "outputs": [],
   "source": [
    "gis = GIS(\"https://arcgis.com\", \"workforce_scripts\")\n",
    "item = gis.content.get(\"29f2f056e5e04ba383e59737b3f8b340\")\n",
    "project = workforce.Project(item)"
   ]
  },
  {
   "cell_type": "markdown",
   "metadata": {},
   "source": [
    "### Get Layer of City Districts\n",
    "Let's get the layer representing city districts and display it."
   ]
  },
  {
   "cell_type": "code",
   "execution_count": null,
   "metadata": {},
   "outputs": [],
   "source": [
    "districts_layer = gis.content.get(\"08eecb2f46c740aaba316cef8a719a88\").layers[0]\n",
    "districts_map = gis.map(\"San Diego, CA\", zoomlevel=12)\n",
    "districts_map.add_layer(districts_layer)\n",
    "districts_map"
   ]
  },
  {
   "cell_type": "markdown",
   "metadata": {},
   "source": [
    "### Add Assignments to the Map"
   ]
  },
  {
   "cell_type": "code",
   "execution_count": null,
   "metadata": {},
   "outputs": [],
   "source": [
    "districts_map.add_layer(project.assignments_layer)"
   ]
  },
  {
   "cell_type": "markdown",
   "metadata": {},
   "source": [
    "### Create a spatially enabled dataframe of the districts"
   ]
  },
  {
   "cell_type": "code",
   "execution_count": null,
   "metadata": {},
   "outputs": [],
   "source": [
    "districts_df = districts_layer.query(as_df=True)"
   ]
  },
  {
   "cell_type": "markdown",
   "metadata": {},
   "source": [
    "### Get all of the unassigned assignments"
   ]
  },
  {
   "cell_type": "code",
   "execution_count": null,
   "metadata": {},
   "outputs": [],
   "source": [
    "assignments = project.assignments.search(\"status=0\")"
   ]
  },
  {
   "cell_type": "markdown",
   "metadata": {},
   "source": [
    "### Assign Assignments Based on Which District They Intersect¶\n",
    "Let's fetch the districts layer and query to get all of the districts. Then, for each unassigned assignment intersect the assignment with all districts to determine which district it falls in. Assignments in district 3 should be assigned to James. Assignments in district 8 should be assigned to Aaron. Finally update all of the assignments using \"batch_update\"."
   ]
  },
  {
   "cell_type": "code",
   "execution_count": null,
   "metadata": {},
   "outputs": [],
   "source": [
    "aaron = project.workers.get(user_id=\"aaron_nitro\")\n",
    "james = project.workers.get(user_id=\"james_Nitro\")\n",
    "for assignment in assignments:\n",
    "    contains = districts_df[\"SHAPE\"].geom.contains(Geometry(assignment.geometry))\n",
    "    containers = districts_df[contains]\n",
    "    if not containers.empty: \n",
    "        district = containers['district'].iloc[0]\n",
    "        if district == 3:\n",
    "            assignment.worker = james\n",
    "            assignment.status = \"assigned\"\n",
    "            assignment.assigned_date = datetime.utcnow()\n",
    "        elif district == 8:\n",
    "            assignment.worker = aaron\n",
    "            assignment.status = \"assigned\"\n",
    "            assignment.assigned_date = datetime.utcnow()\n",
    "assignments = project.assignments.batch_update(assignments)"
   ]
  },
  {
   "cell_type": "markdown",
   "metadata": {},
   "source": [
    "\n",
    "### Verify Assignments are Assigned"
   ]
  },
  {
   "cell_type": "code",
   "execution_count": null,
   "metadata": {},
   "outputs": [],
   "source": [
    "districts_map"
   ]
  }
 ],
 "metadata": {
  "kernelspec": {
   "display_name": "Python 3",
   "language": "python",
   "name": "python3"
  },
  "language_info": {
   "codemirror_mode": {
    "name": "ipython",
    "version": 3
   },
   "file_extension": ".py",
   "mimetype": "text/x-python",
   "name": "python",
   "nbconvert_exporter": "python",
   "pygments_lexer": "ipython3",
   "version": "3.6.8"
  }
 },
 "nbformat": 4,
 "nbformat_minor": 2
}
